{
 "cells": [
  {
   "cell_type": "markdown",
   "metadata": {},
   "source": [
    "## Airlines Delays using H20 and Python"
   ]
  },
  {
   "cell_type": "code",
   "execution_count": 1,
   "metadata": {
    "collapsed": false
   },
   "outputs": [],
   "source": [
    "import h2o\n",
    "import pandas\n",
    "import pprint\n",
    "import operator\n",
    "import matplotlib\n",
    "from h2o.estimators.glm import H2OGeneralizedLinearEstimator\n",
    "from h2o.estimators.gbm import H2OGradientBoostingEstimator\n",
    "from h2o.estimators.random_forest import H2ORandomForestEstimator\n",
    "from h2o.estimators.deeplearning import H2ODeepLearningEstimator\n",
    "from tabulate import tabulate"
   ]
  },
  {
   "cell_type": "code",
   "execution_count": 9,
   "metadata": {
    "collapsed": false
   },
   "outputs": [
    {
     "name": "stdout",
     "output_type": "stream",
     "text": [
      "\n",
      "\n",
      "No instance found at ip and port: localhost:54321. Trying to start local jar...\n",
      "\n",
      "\n",
      "JVM stdout: /var/folders/w_/205bsmdd2tx9ywh2nf36k76h0000gn/T/tmpSxc5HR/h2o_iglopezfrancos_started_from_python.out\n",
      "JVM stderr: /var/folders/w_/205bsmdd2tx9ywh2nf36k76h0000gn/T/tmppUh1n1/h2o_iglopezfrancos_started_from_python.err\n",
      "Using ice_root: /var/folders/w_/205bsmdd2tx9ywh2nf36k76h0000gn/T/tmp0d2JZ1\n",
      "\n",
      "\n",
      "Java Version: java version \"1.8.0_40\"\n",
      "Java(TM) SE Runtime Environment (build 1.8.0_40-b27)\n",
      "Java HotSpot(TM) 64-Bit Server VM (build 25.40-b25, mixed mode)\n",
      "\n",
      "\n",
      "Starting H2O JVM and connecting: ..................... Connection successful!\n"
     ]
    },
    {
     "data": {
      "text/html": [
       "<div style=\"overflow:auto\"><table style=\"width:50%\"><tr><td>H2O cluster uptime: </td>\n",
       "<td>2 seconds 578 milliseconds </td></tr>\n",
       "<tr><td>H2O cluster version: </td>\n",
       "<td>3.8.2.3</td></tr>\n",
       "<tr><td>H2O cluster name: </td>\n",
       "<td>H2O_started_from_python_iglopezfrancos_lss849</td></tr>\n",
       "<tr><td>H2O cluster total nodes: </td>\n",
       "<td>1</td></tr>\n",
       "<tr><td>H2O cluster total free memory: </td>\n",
       "<td>1.78 GB</td></tr>\n",
       "<tr><td>H2O cluster total cores: </td>\n",
       "<td>4</td></tr>\n",
       "<tr><td>H2O cluster allowed cores: </td>\n",
       "<td>4</td></tr>\n",
       "<tr><td>H2O cluster healthy: </td>\n",
       "<td>True</td></tr>\n",
       "<tr><td>H2O Connection ip: </td>\n",
       "<td>127.0.0.1</td></tr>\n",
       "<tr><td>H2O Connection port: </td>\n",
       "<td>54321</td></tr>\n",
       "<tr><td>H2O Connection proxy: </td>\n",
       "<td>None</td></tr>\n",
       "<tr><td>Python Version: </td>\n",
       "<td>2.7.11</td></tr></table></div>"
      ],
      "text/plain": [
       "------------------------------  ---------------------------------------------\n",
       "H2O cluster uptime:             2 seconds 578 milliseconds\n",
       "H2O cluster version:            3.8.2.3\n",
       "H2O cluster name:               H2O_started_from_python_iglopezfrancos_lss849\n",
       "H2O cluster total nodes:        1\n",
       "H2O cluster total free memory:  1.78 GB\n",
       "H2O cluster total cores:        4\n",
       "H2O cluster allowed cores:      4\n",
       "H2O cluster healthy:            True\n",
       "H2O Connection ip:              127.0.0.1\n",
       "H2O Connection port:            54321\n",
       "H2O Connection proxy:\n",
       "Python Version:                 2.7.11\n",
       "------------------------------  ---------------------------------------------"
      ]
     },
     "metadata": {},
     "output_type": "display_data"
    }
   ],
   "source": [
    "# Connect to a cluster\n",
    "h2o.init() \n",
    "#h2o.shutdown()"
   ]
  },
  {
   "cell_type": "code",
   "execution_count": 10,
   "metadata": {
    "collapsed": true
   },
   "outputs": [],
   "source": [
    "# set this to True if interactive (matplotlib) plots are desired\n",
    "interactive = False\n",
    "if not interactive: matplotlib.use('Agg', warn=False)\n",
    "import matplotlib.pyplot as plt"
   ]
  },
  {
   "cell_type": "markdown",
   "metadata": {},
   "source": [
    "### 1- Load data\n",
    "\n",
    "Get the data [here](https://raw.github.com/0xdata/h2o/master/smalldata/airlines/allyears2k_headers.zip)\n",
    "\n",
    "- 1 row per flight.  \n",
    "- Has columns showing the origin, destination, departure and arrival time, carrier information, and whether the flight was delayed."
   ]
  },
  {
   "cell_type": "code",
   "execution_count": 34,
   "metadata": {
    "collapsed": false
   },
   "outputs": [
    {
     "name": "stdout",
     "output_type": "stream",
     "text": [
      "Import and Parse airlines data\n",
      "\n",
      "Parse Progress: [##################################################] 100%\n",
      "Rows:43,978 Cols:31\n",
      "\n",
      "Chunk compression summary: \n"
     ]
    },
    {
     "data": {
      "text/html": [
       "<div style=\"overflow:auto\"><table style=\"width:50%\"><tr><td><b>chunk_type</b></td>\n",
       "<td><b>chunk_name</b></td>\n",
       "<td><b>count</b></td>\n",
       "<td><b>count_percentage</b></td>\n",
       "<td><b>size</b></td>\n",
       "<td><b>size_percentage</b></td></tr>\n",
       "<tr><td>C0L</td>\n",
       "<td>Constant Integers</td>\n",
       "<td>38</td>\n",
       "<td>7.6612906</td>\n",
       "<td>    3.0 KB</td>\n",
       "<td>0.2208526</td></tr>\n",
       "<tr><td>C0D</td>\n",
       "<td>Constant Reals</td>\n",
       "<td>75</td>\n",
       "<td>15.120968</td>\n",
       "<td>    5.9 KB</td>\n",
       "<td>0.4358932</td></tr>\n",
       "<tr><td>CBS</td>\n",
       "<td>Bits</td>\n",
       "<td>32</td>\n",
       "<td>6.451613</td>\n",
       "<td>   12.9 KB</td>\n",
       "<td>0.9624521</td></tr>\n",
       "<tr><td>CX0</td>\n",
       "<td>Zero Sparse Bits</td>\n",
       "<td>32</td>\n",
       "<td>6.451613</td>\n",
       "<td>    4.6 KB</td>\n",
       "<td>0.3456633</td></tr>\n",
       "<tr><td>CXI</td>\n",
       "<td>Zero Sparse Integers</td>\n",
       "<td>7</td>\n",
       "<td>1.4112903</td>\n",
       "<td>    5.4 KB</td>\n",
       "<td>0.4017482</td></tr>\n",
       "<tr><td>C1</td>\n",
       "<td>1-Byte Integers</td>\n",
       "<td>12</td>\n",
       "<td>2.4193547</td>\n",
       "<td>   33.3 KB</td>\n",
       "<td>2.4750016</td></tr>\n",
       "<tr><td>C1N</td>\n",
       "<td>1-Byte Integers (w/o NAs)</td>\n",
       "<td>99</td>\n",
       "<td>19.959679</td>\n",
       "<td>  271.9 KB</td>\n",
       "<td>20.22508</td></tr>\n",
       "<tr><td>C1S</td>\n",
       "<td>1-Byte Fractions</td>\n",
       "<td>26</td>\n",
       "<td>5.2419353</td>\n",
       "<td>   72.1 KB</td>\n",
       "<td>5.360106</td></tr>\n",
       "<tr><td>C2</td>\n",
       "<td>2-Byte Integers</td>\n",
       "<td>172</td>\n",
       "<td>34.677418</td>\n",
       "<td>  934.3 KB</td>\n",
       "<td>69.50506</td></tr>\n",
       "<tr><td>CNAXI</td>\n",
       "<td>NA Sparse Integers</td>\n",
       "<td>3</td>\n",
       "<td>0.6048387</td>\n",
       "<td>    938  B</td>\n",
       "<td>0.0681446</td></tr></table></div>"
      ],
      "text/plain": [
       "chunk_type    chunk_name                 count    count_percentage    size      size_percentage\n",
       "------------  -------------------------  -------  ------------------  --------  -----------------\n",
       "C0L           Constant Integers          38       7.66129             3.0 KB    0.220853\n",
       "C0D           Constant Reals             75       15.121              5.9 KB    0.435893\n",
       "CBS           Bits                       32       6.45161             12.9 KB   0.962452\n",
       "CX0           Zero Sparse Bits           32       6.45161             4.6 KB    0.345663\n",
       "CXI           Zero Sparse Integers       7        1.41129             5.4 KB    0.401748\n",
       "C1            1-Byte Integers            12       2.41935             33.3 KB   2.475\n",
       "C1N           1-Byte Integers (w/o NAs)  99       19.9597             271.9 KB  20.2251\n",
       "C1S           1-Byte Fractions           26       5.24194             72.1 KB   5.36011\n",
       "C2            2-Byte Integers            172      34.6774             934.3 KB  69.5051\n",
       "CNAXI         NA Sparse Integers         3        0.604839            938  B    0.0681446"
      ]
     },
     "metadata": {},
     "output_type": "display_data"
    },
    {
     "name": "stdout",
     "output_type": "stream",
     "text": [
      "\n",
      "Frame distribution summary: \n"
     ]
    },
    {
     "data": {
      "text/html": [
       "<div style=\"overflow:auto\"><table style=\"width:50%\"><tr><td><b></b></td>\n",
       "<td><b>size</b></td>\n",
       "<td><b>number_of_rows</b></td>\n",
       "<td><b>number_of_chunks_per_column</b></td>\n",
       "<td><b>number_of_chunks</b></td></tr>\n",
       "<tr><td>127.0.0.1:54321</td>\n",
       "<td>    1.3 MB</td>\n",
       "<td>43978.0</td>\n",
       "<td>16.0</td>\n",
       "<td>496.0</td></tr>\n",
       "<tr><td>mean</td>\n",
       "<td>    1.3 MB</td>\n",
       "<td>43978.0</td>\n",
       "<td>16.0</td>\n",
       "<td>496.0</td></tr>\n",
       "<tr><td>min</td>\n",
       "<td>    1.3 MB</td>\n",
       "<td>43978.0</td>\n",
       "<td>16.0</td>\n",
       "<td>496.0</td></tr>\n",
       "<tr><td>max</td>\n",
       "<td>    1.3 MB</td>\n",
       "<td>43978.0</td>\n",
       "<td>16.0</td>\n",
       "<td>496.0</td></tr>\n",
       "<tr><td>stddev</td>\n",
       "<td>      0  B</td>\n",
       "<td>0.0</td>\n",
       "<td>0.0</td>\n",
       "<td>0.0</td></tr>\n",
       "<tr><td>total</td>\n",
       "<td>    1.3 MB</td>\n",
       "<td>43978.0</td>\n",
       "<td>16.0</td>\n",
       "<td>496.0</td></tr></table></div>"
      ],
      "text/plain": [
       "                 size    number_of_rows    number_of_chunks_per_column    number_of_chunks\n",
       "---------------  ------  ----------------  -----------------------------  ------------------\n",
       "127.0.0.1:54321  1.3 MB  43978             16                             496\n",
       "mean             1.3 MB  43978             16                             496\n",
       "min              1.3 MB  43978             16                             496\n",
       "max              1.3 MB  43978             16                             496\n",
       "stddev           0  B    0                 0                              0\n",
       "total            1.3 MB  43978             16                             496"
      ]
     },
     "metadata": {},
     "output_type": "display_data"
    },
    {
     "name": "stdout",
     "output_type": "stream",
     "text": [
      "\n",
      "\n"
     ]
    },
    {
     "data": {
      "text/html": [
       "<table>\n",
       "<tr><th>       </th><th>Year         </th><th>Month        </th><th>DayofMonth   </th><th>DayOfWeek    </th><th>DepTime      </th><th>CRSDepTime   </th><th>ArrTime      </th><th>CRSArrTime   </th><th>UniqueCarrier  </th><th>FlightNum    </th><th>TailNum  </th><th>ActualElapsedTime  </th><th>CRSElapsedTime  </th><th>AirTime      </th><th>ArrDelay     </th><th>DepDelay     </th><th>Origin  </th><th>Dest  </th><th>Distance     </th><th>TaxiIn       </th><th>TaxiOut      </th><th>Cancelled      </th><th>CancellationCode  </th><th>Diverted        </th><th>CarrierDelay  </th><th>WeatherDelay  </th><th>NASDelay     </th><th>SecurityDelay  </th><th>LateAircraftDelay  </th><th>IsArrDelayed  </th><th>IsDepDelayed  </th></tr>\n",
       "<tr><td>type   </td><td>int          </td><td>int          </td><td>int          </td><td>int          </td><td>int          </td><td>int          </td><td>int          </td><td>int          </td><td>enum           </td><td>int          </td><td>enum     </td><td>int                </td><td>int             </td><td>int          </td><td>int          </td><td>int          </td><td>enum    </td><td>enum  </td><td>int          </td><td>int          </td><td>int          </td><td>int            </td><td>enum              </td><td>int             </td><td>int           </td><td>int           </td><td>int          </td><td>int            </td><td>int                </td><td>enum          </td><td>enum          </td></tr>\n",
       "<tr><td>mins   </td><td>1987.0       </td><td>1.0          </td><td>1.0          </td><td>1.0          </td><td>1.0          </td><td>0.0          </td><td>1.0          </td><td>0.0          </td><td>0.0            </td><td>1.0          </td><td>0.0      </td><td>16.0               </td><td>17.0            </td><td>14.0         </td><td>-63.0        </td><td>-16.0        </td><td>0.0     </td><td>0.0   </td><td>11.0         </td><td>0.0          </td><td>0.0          </td><td>0.0            </td><td>0.0               </td><td>0.0             </td><td>0.0           </td><td>0.0           </td><td>0.0          </td><td>0.0            </td><td>0.0                </td><td>0.0           </td><td>0.0           </td></tr>\n",
       "<tr><td>mean   </td><td>1997.5       </td><td>1.40909090909</td><td>14.6010732639</td><td>3.82061485288</td><td>1345.84666138</td><td>1313.22286143</td><td>1504.63413038</td><td>1485.28916731</td><td>NaN            </td><td>818.842989677</td><td>NaN      </td><td>124.814529135      </td><td>125.021562607   </td><td>114.316111091</td><td>9.31711193698</td><td>10.0073906556</td><td>NaN     </td><td>NaN   </td><td>730.182190565</td><td>5.38136805953</td><td>14.1686341847</td><td>0.0246941652645</td><td>NaN               </td><td>0.00247851198326</td><td>4.04780029106 </td><td>0.289376469271</td><td>4.85503190418</td><td>0.0170155602821</td><td>7.62006045002      </td><td>0.555755150302</td><td>0.525057983537</td></tr>\n",
       "<tr><td>maxs   </td><td>2008.0       </td><td>10.0         </td><td>31.0         </td><td>7.0          </td><td>2400.0       </td><td>2359.0       </td><td>2400.0       </td><td>2359.0       </td><td>9.0            </td><td>3949.0       </td><td>3500.0   </td><td>475.0              </td><td>437.0           </td><td>402.0        </td><td>475.0        </td><td>473.0        </td><td>131.0   </td><td>133.0 </td><td>3365.0       </td><td>128.0        </td><td>254.0        </td><td>1.0            </td><td>3.0               </td><td>1.0             </td><td>369.0         </td><td>201.0         </td><td>323.0        </td><td>14.0           </td><td>373.0              </td><td>1.0           </td><td>1.0           </td></tr>\n",
       "<tr><td>sigma  </td><td>6.34436090171</td><td>1.87471137134</td><td>9.17579042586</td><td>1.90501311913</td><td>465.340899124</td><td>476.251139993</td><td>484.347487904</td><td>492.750434123</td><td>NaN            </td><td>777.404369164</td><td>NaN      </td><td>73.9744416606      </td><td>73.40159463     </td><td>69.6363295151</td><td>29.8402219624</td><td>26.4388090429</td><td>NaN     </td><td>NaN   </td><td>578.43800823 </td><td>4.20197993986</td><td>9.9050857472 </td><td>0.155193141358 </td><td>NaN               </td><td>0.0497234872189 </td><td>16.2057299045 </td><td>4.41677989873 </td><td>18.6197762215</td><td>0.403940182102 </td><td>23.4875658741      </td><td>0.496887288343</td><td>0.499377380318</td></tr>\n",
       "<tr><td>zeros  </td><td>0            </td><td>0            </td><td>0            </td><td>0            </td><td>0            </td><td>569          </td><td>0            </td><td>569          </td><td>724            </td><td>0            </td><td>2        </td><td>0                  </td><td>0               </td><td>0            </td><td>1514         </td><td>6393         </td><td>59      </td><td>172   </td><td>0            </td><td>623          </td><td>557          </td><td>42892          </td><td>81                </td><td>43869           </td><td>7344          </td><td>8840          </td><td>7388         </td><td>8914           </td><td>7140               </td><td>19537         </td><td>20887         </td></tr>\n",
       "<tr><td>missing</td><td>0            </td><td>0            </td><td>0            </td><td>0            </td><td>1086         </td><td>0            </td><td>1195         </td><td>0            </td><td>0              </td><td>0            </td><td>32       </td><td>1195               </td><td>13              </td><td>16649        </td><td>1195         </td><td>1086         </td><td>0       </td><td>0     </td><td>35           </td><td>16026        </td><td>16024        </td><td>0              </td><td>9774              </td><td>0               </td><td>35045         </td><td>35045         </td><td>35045        </td><td>35045          </td><td>35045              </td><td>0             </td><td>0             </td></tr>\n",
       "<tr><td>0      </td><td>1987.0       </td><td>10.0         </td><td>14.0         </td><td>3.0          </td><td>741.0        </td><td>730.0        </td><td>912.0        </td><td>849.0        </td><td>PS             </td><td>1451.0       </td><td>NA       </td><td>91.0               </td><td>79.0            </td><td>nan          </td><td>23.0         </td><td>11.0         </td><td>SAN     </td><td>SFO   </td><td>447.0        </td><td>nan          </td><td>nan          </td><td>0.0            </td><td>NA                </td><td>0.0             </td><td>nan           </td><td>nan           </td><td>nan          </td><td>nan            </td><td>nan                </td><td>YES           </td><td>YES           </td></tr>\n",
       "<tr><td>1      </td><td>1987.0       </td><td>10.0         </td><td>15.0         </td><td>4.0          </td><td>729.0        </td><td>730.0        </td><td>903.0        </td><td>849.0        </td><td>PS             </td><td>1451.0       </td><td>NA       </td><td>94.0               </td><td>79.0            </td><td>nan          </td><td>14.0         </td><td>-1.0         </td><td>SAN     </td><td>SFO   </td><td>447.0        </td><td>nan          </td><td>nan          </td><td>0.0            </td><td>NA                </td><td>0.0             </td><td>nan           </td><td>nan           </td><td>nan          </td><td>nan            </td><td>nan                </td><td>YES           </td><td>NO            </td></tr>\n",
       "<tr><td>2      </td><td>1987.0       </td><td>10.0         </td><td>17.0         </td><td>6.0          </td><td>741.0        </td><td>730.0        </td><td>918.0        </td><td>849.0        </td><td>PS             </td><td>1451.0       </td><td>NA       </td><td>97.0               </td><td>79.0            </td><td>nan          </td><td>29.0         </td><td>11.0         </td><td>SAN     </td><td>SFO   </td><td>447.0        </td><td>nan          </td><td>nan          </td><td>0.0            </td><td>NA                </td><td>0.0             </td><td>nan           </td><td>nan           </td><td>nan          </td><td>nan            </td><td>nan                </td><td>YES           </td><td>YES           </td></tr>\n",
       "<tr><td>3      </td><td>1987.0       </td><td>10.0         </td><td>18.0         </td><td>7.0          </td><td>729.0        </td><td>730.0        </td><td>847.0        </td><td>849.0        </td><td>PS             </td><td>1451.0       </td><td>NA       </td><td>78.0               </td><td>79.0            </td><td>nan          </td><td>-2.0         </td><td>-1.0         </td><td>SAN     </td><td>SFO   </td><td>447.0        </td><td>nan          </td><td>nan          </td><td>0.0            </td><td>NA                </td><td>0.0             </td><td>nan           </td><td>nan           </td><td>nan          </td><td>nan            </td><td>nan                </td><td>NO            </td><td>NO            </td></tr>\n",
       "<tr><td>4      </td><td>1987.0       </td><td>10.0         </td><td>19.0         </td><td>1.0          </td><td>749.0        </td><td>730.0        </td><td>922.0        </td><td>849.0        </td><td>PS             </td><td>1451.0       </td><td>NA       </td><td>93.0               </td><td>79.0            </td><td>nan          </td><td>33.0         </td><td>19.0         </td><td>SAN     </td><td>SFO   </td><td>447.0        </td><td>nan          </td><td>nan          </td><td>0.0            </td><td>NA                </td><td>0.0             </td><td>nan           </td><td>nan           </td><td>nan          </td><td>nan            </td><td>nan                </td><td>YES           </td><td>YES           </td></tr>\n",
       "<tr><td>5      </td><td>1987.0       </td><td>10.0         </td><td>21.0         </td><td>3.0          </td><td>728.0        </td><td>730.0        </td><td>848.0        </td><td>849.0        </td><td>PS             </td><td>1451.0       </td><td>NA       </td><td>80.0               </td><td>79.0            </td><td>nan          </td><td>-1.0         </td><td>-2.0         </td><td>SAN     </td><td>SFO   </td><td>447.0        </td><td>nan          </td><td>nan          </td><td>0.0            </td><td>NA                </td><td>0.0             </td><td>nan           </td><td>nan           </td><td>nan          </td><td>nan            </td><td>nan                </td><td>NO            </td><td>NO            </td></tr>\n",
       "<tr><td>6      </td><td>1987.0       </td><td>10.0         </td><td>22.0         </td><td>4.0          </td><td>728.0        </td><td>730.0        </td><td>852.0        </td><td>849.0        </td><td>PS             </td><td>1451.0       </td><td>NA       </td><td>84.0               </td><td>79.0            </td><td>nan          </td><td>3.0          </td><td>-2.0         </td><td>SAN     </td><td>SFO   </td><td>447.0        </td><td>nan          </td><td>nan          </td><td>0.0            </td><td>NA                </td><td>0.0             </td><td>nan           </td><td>nan           </td><td>nan          </td><td>nan            </td><td>nan                </td><td>YES           </td><td>NO            </td></tr>\n",
       "<tr><td>7      </td><td>1987.0       </td><td>10.0         </td><td>23.0         </td><td>5.0          </td><td>731.0        </td><td>730.0        </td><td>902.0        </td><td>849.0        </td><td>PS             </td><td>1451.0       </td><td>NA       </td><td>91.0               </td><td>79.0            </td><td>nan          </td><td>13.0         </td><td>1.0          </td><td>SAN     </td><td>SFO   </td><td>447.0        </td><td>nan          </td><td>nan          </td><td>0.0            </td><td>NA                </td><td>0.0             </td><td>nan           </td><td>nan           </td><td>nan          </td><td>nan            </td><td>nan                </td><td>YES           </td><td>YES           </td></tr>\n",
       "<tr><td>8      </td><td>1987.0       </td><td>10.0         </td><td>24.0         </td><td>6.0          </td><td>744.0        </td><td>730.0        </td><td>908.0        </td><td>849.0        </td><td>PS             </td><td>1451.0       </td><td>NA       </td><td>84.0               </td><td>79.0            </td><td>nan          </td><td>19.0         </td><td>14.0         </td><td>SAN     </td><td>SFO   </td><td>447.0        </td><td>nan          </td><td>nan          </td><td>0.0            </td><td>NA                </td><td>0.0             </td><td>nan           </td><td>nan           </td><td>nan          </td><td>nan            </td><td>nan                </td><td>YES           </td><td>YES           </td></tr>\n",
       "<tr><td>9      </td><td>1987.0       </td><td>10.0         </td><td>25.0         </td><td>7.0          </td><td>729.0        </td><td>730.0        </td><td>851.0        </td><td>849.0        </td><td>PS             </td><td>1451.0       </td><td>NA       </td><td>82.0               </td><td>79.0            </td><td>nan          </td><td>2.0          </td><td>-1.0         </td><td>SAN     </td><td>SFO   </td><td>447.0        </td><td>nan          </td><td>nan          </td><td>0.0            </td><td>NA                </td><td>0.0             </td><td>nan           </td><td>nan           </td><td>nan          </td><td>nan            </td><td>nan                </td><td>YES           </td><td>NO            </td></tr>\n",
       "</table>"
      ]
     },
     "metadata": {},
     "output_type": "display_data"
    }
   ],
   "source": [
    "from h2o.utils.shared_utils import _locate # private function. used to find files within h2o git project directory.\n",
    "air_path = [_locate(\"./allyears2k_headers.csv\")]\n",
    "\n",
    "print(\"Import and Parse airlines data\")\n",
    "data = h2o.import_file(path=air_path)\n",
    "data.describe()"
   ]
  },
  {
   "cell_type": "markdown",
   "metadata": {},
   "source": [
    "### 2- Data exploration and munging. \n",
    "- Generate scatter plots of various columns and plot fitted GLM model."
   ]
  },
  {
   "cell_type": "code",
   "execution_count": 35,
   "metadata": {
    "collapsed": false
   },
   "outputs": [
    {
     "name": "stdout",
     "output_type": "stream",
     "text": [
      "\n",
      "glm Model Build Progress: [##################################################] 100%\n"
     ]
    }
   ],
   "source": [
    "# Function to fit a GLM model and plot the fitted (x,y) values\n",
    "def scatter_plot(data, x, y, max_points = 1000, fit = True):\n",
    "    if(fit):\n",
    "        lr = H2OGeneralizedLinearEstimator(family = \"gaussian\")\n",
    "        lr.train(x=x, y=y, training_frame=data)\n",
    "        coeff = lr.coef()\n",
    "    df = data[[x,y]]\n",
    "    runif = df[y].runif()\n",
    "    df_subset = df[runif < float(max_points)/data.nrow]\n",
    "    df_py = h2o.as_list(df_subset)\n",
    "    \n",
    "    if(fit): h2o.remove(lr._id)\n",
    "\n",
    "    # If x variable is string, generate box-and-whisker plot\n",
    "    if(df_py[x].dtype == \"object\"):\n",
    "        if interactive: df_py.boxplot(column = y, by = x)\n",
    "    # Otherwise, generate a scatter plot\n",
    "    else:\n",
    "        if interactive: df_py.plot(x = x, y = y, kind = \"scatter\")\n",
    "    \n",
    "    if(fit):\n",
    "        x_min = min(df_py[x])\n",
    "        x_max = max(df_py[x])\n",
    "        y_min = coeff[\"Intercept\"] + coeff[x]*x_min\n",
    "        y_max = coeff[\"Intercept\"] + coeff[x]*x_max\n",
    "        plt.plot([x_min, x_max], [y_min, y_max], \"k-\")\n",
    "    if interactive: plt.show()\n",
    "\n",
    "scatter_plot(data, \"Distance\", \"AirTime\", fit = True)\n",
    "scatter_plot(data, \"UniqueCarrier\", \"ArrDelay\", max_points = 5000, fit = False)"
   ]
  },
  {
   "cell_type": "markdown",
   "metadata": {},
   "source": [
    "Remove rows where departure delay is NA."
   ]
  },
  {
   "cell_type": "code",
   "execution_count": 36,
   "metadata": {
    "collapsed": false
   },
   "outputs": [
    {
     "name": "stdout",
     "output_type": "stream",
     "text": [
      "New dataset rows 42892, columns: 31\n"
     ]
    }
   ],
   "source": [
    "data = data[data[\"DepDelay\"].isna()==0]\n",
    "rows, cols = data.dim\n",
    "print(\"New dataset rows {0}, columns: {1}\".format(rows, cols))"
   ]
  },
  {
   "cell_type": "markdown",
   "metadata": {},
   "source": [
    "Create a new target variable called **`IsDepDelayed25`** that identifies those flights that were delayed for more than 15 min."
   ]
  },
  {
   "cell_type": "code",
   "execution_count": 47,
   "metadata": {
    "collapsed": false
   },
   "outputs": [],
   "source": [
    "data1 = data\n",
    "numCols = data1.dim[1]\n",
    "new_y_col = \"IsDepDelayed25\"\n",
    "\n",
    "minOfDelayThreshold = 25\n",
    "data1 = data1.cbind(data1[\"DepDelay\"] > minOfDelayThreshold)\n",
    "\n",
    "\n",
    "data1[numCols] = data1[numCols-1].asfactor()\n",
    "data1.set_name(numCols, new_y_col)\n",
    "data = data1"
   ]
  },
  {
   "cell_type": "code",
   "execution_count": 48,
   "metadata": {
    "collapsed": false
   },
   "outputs": [
    {
     "data": {
      "text/html": [
       "<table>\n",
       "<tr><th style=\"text-align: right;\">  Year</th><th style=\"text-align: right;\">  Month</th><th style=\"text-align: right;\">  DayofMonth</th><th style=\"text-align: right;\">  DayOfWeek</th><th style=\"text-align: right;\">  DepTime</th><th style=\"text-align: right;\">  CRSDepTime</th><th style=\"text-align: right;\">  ArrTime</th><th style=\"text-align: right;\">  CRSArrTime</th><th>UniqueCarrier  </th><th style=\"text-align: right;\">  FlightNum</th><th>TailNum  </th><th style=\"text-align: right;\">  ActualElapsedTime</th><th style=\"text-align: right;\">  CRSElapsedTime</th><th style=\"text-align: right;\">  AirTime</th><th style=\"text-align: right;\">  ArrDelay</th><th style=\"text-align: right;\">  DepDelay</th><th>Origin  </th><th>Dest  </th><th style=\"text-align: right;\">  Distance</th><th style=\"text-align: right;\">  TaxiIn</th><th style=\"text-align: right;\">  TaxiOut</th><th style=\"text-align: right;\">  Cancelled</th><th>CancellationCode  </th><th style=\"text-align: right;\">  Diverted</th><th style=\"text-align: right;\">  CarrierDelay</th><th style=\"text-align: right;\">  WeatherDelay</th><th style=\"text-align: right;\">  NASDelay</th><th style=\"text-align: right;\">  SecurityDelay</th><th style=\"text-align: right;\">  LateAircraftDelay</th><th>IsArrDelayed  </th><th>IsDepDelayed  </th><th>SynthDepDelayed  </th><th>IsDepDelayed15  </th><th>IsDepDelayed25  </th></tr>\n",
       "<tr><td style=\"text-align: right;\">  1987</td><td style=\"text-align: right;\">     10</td><td style=\"text-align: right;\">          14</td><td style=\"text-align: right;\">          3</td><td style=\"text-align: right;\">      741</td><td style=\"text-align: right;\">         730</td><td style=\"text-align: right;\">      912</td><td style=\"text-align: right;\">         849</td><td>PS             </td><td style=\"text-align: right;\">       1451</td><td>NA       </td><td style=\"text-align: right;\">                 91</td><td style=\"text-align: right;\">              79</td><td style=\"text-align: right;\">      nan</td><td style=\"text-align: right;\">        23</td><td style=\"text-align: right;\">        11</td><td>SAN     </td><td>SFO   </td><td style=\"text-align: right;\">       447</td><td style=\"text-align: right;\">     nan</td><td style=\"text-align: right;\">      nan</td><td style=\"text-align: right;\">          0</td><td>NA                </td><td style=\"text-align: right;\">         0</td><td style=\"text-align: right;\">           nan</td><td style=\"text-align: right;\">           nan</td><td style=\"text-align: right;\">       nan</td><td style=\"text-align: right;\">            nan</td><td style=\"text-align: right;\">                nan</td><td>YES           </td><td>YES           </td><td>YES              </td><td>YES             </td><td>YES             </td></tr>\n",
       "<tr><td style=\"text-align: right;\">  1987</td><td style=\"text-align: right;\">     10</td><td style=\"text-align: right;\">          15</td><td style=\"text-align: right;\">          4</td><td style=\"text-align: right;\">      729</td><td style=\"text-align: right;\">         730</td><td style=\"text-align: right;\">      903</td><td style=\"text-align: right;\">         849</td><td>PS             </td><td style=\"text-align: right;\">       1451</td><td>NA       </td><td style=\"text-align: right;\">                 94</td><td style=\"text-align: right;\">              79</td><td style=\"text-align: right;\">      nan</td><td style=\"text-align: right;\">        14</td><td style=\"text-align: right;\">        -1</td><td>SAN     </td><td>SFO   </td><td style=\"text-align: right;\">       447</td><td style=\"text-align: right;\">     nan</td><td style=\"text-align: right;\">      nan</td><td style=\"text-align: right;\">          0</td><td>NA                </td><td style=\"text-align: right;\">         0</td><td style=\"text-align: right;\">           nan</td><td style=\"text-align: right;\">           nan</td><td style=\"text-align: right;\">       nan</td><td style=\"text-align: right;\">            nan</td><td style=\"text-align: right;\">                nan</td><td>YES           </td><td>NO            </td><td>NO               </td><td>NO              </td><td>NO              </td></tr>\n",
       "<tr><td style=\"text-align: right;\">  1987</td><td style=\"text-align: right;\">     10</td><td style=\"text-align: right;\">          17</td><td style=\"text-align: right;\">          6</td><td style=\"text-align: right;\">      741</td><td style=\"text-align: right;\">         730</td><td style=\"text-align: right;\">      918</td><td style=\"text-align: right;\">         849</td><td>PS             </td><td style=\"text-align: right;\">       1451</td><td>NA       </td><td style=\"text-align: right;\">                 97</td><td style=\"text-align: right;\">              79</td><td style=\"text-align: right;\">      nan</td><td style=\"text-align: right;\">        29</td><td style=\"text-align: right;\">        11</td><td>SAN     </td><td>SFO   </td><td style=\"text-align: right;\">       447</td><td style=\"text-align: right;\">     nan</td><td style=\"text-align: right;\">      nan</td><td style=\"text-align: right;\">          0</td><td>NA                </td><td style=\"text-align: right;\">         0</td><td style=\"text-align: right;\">           nan</td><td style=\"text-align: right;\">           nan</td><td style=\"text-align: right;\">       nan</td><td style=\"text-align: right;\">            nan</td><td style=\"text-align: right;\">                nan</td><td>YES           </td><td>YES           </td><td>YES              </td><td>YES             </td><td>YES             </td></tr>\n",
       "<tr><td style=\"text-align: right;\">  1987</td><td style=\"text-align: right;\">     10</td><td style=\"text-align: right;\">          18</td><td style=\"text-align: right;\">          7</td><td style=\"text-align: right;\">      729</td><td style=\"text-align: right;\">         730</td><td style=\"text-align: right;\">      847</td><td style=\"text-align: right;\">         849</td><td>PS             </td><td style=\"text-align: right;\">       1451</td><td>NA       </td><td style=\"text-align: right;\">                 78</td><td style=\"text-align: right;\">              79</td><td style=\"text-align: right;\">      nan</td><td style=\"text-align: right;\">        -2</td><td style=\"text-align: right;\">        -1</td><td>SAN     </td><td>SFO   </td><td style=\"text-align: right;\">       447</td><td style=\"text-align: right;\">     nan</td><td style=\"text-align: right;\">      nan</td><td style=\"text-align: right;\">          0</td><td>NA                </td><td style=\"text-align: right;\">         0</td><td style=\"text-align: right;\">           nan</td><td style=\"text-align: right;\">           nan</td><td style=\"text-align: right;\">       nan</td><td style=\"text-align: right;\">            nan</td><td style=\"text-align: right;\">                nan</td><td>NO            </td><td>NO            </td><td>NO               </td><td>NO              </td><td>NO              </td></tr>\n",
       "<tr><td style=\"text-align: right;\">  1987</td><td style=\"text-align: right;\">     10</td><td style=\"text-align: right;\">          19</td><td style=\"text-align: right;\">          1</td><td style=\"text-align: right;\">      749</td><td style=\"text-align: right;\">         730</td><td style=\"text-align: right;\">      922</td><td style=\"text-align: right;\">         849</td><td>PS             </td><td style=\"text-align: right;\">       1451</td><td>NA       </td><td style=\"text-align: right;\">                 93</td><td style=\"text-align: right;\">              79</td><td style=\"text-align: right;\">      nan</td><td style=\"text-align: right;\">        33</td><td style=\"text-align: right;\">        19</td><td>SAN     </td><td>SFO   </td><td style=\"text-align: right;\">       447</td><td style=\"text-align: right;\">     nan</td><td style=\"text-align: right;\">      nan</td><td style=\"text-align: right;\">          0</td><td>NA                </td><td style=\"text-align: right;\">         0</td><td style=\"text-align: right;\">           nan</td><td style=\"text-align: right;\">           nan</td><td style=\"text-align: right;\">       nan</td><td style=\"text-align: right;\">            nan</td><td style=\"text-align: right;\">                nan</td><td>YES           </td><td>YES           </td><td>YES              </td><td>YES             </td><td>YES             </td></tr>\n",
       "<tr><td style=\"text-align: right;\">  1987</td><td style=\"text-align: right;\">     10</td><td style=\"text-align: right;\">          21</td><td style=\"text-align: right;\">          3</td><td style=\"text-align: right;\">      728</td><td style=\"text-align: right;\">         730</td><td style=\"text-align: right;\">      848</td><td style=\"text-align: right;\">         849</td><td>PS             </td><td style=\"text-align: right;\">       1451</td><td>NA       </td><td style=\"text-align: right;\">                 80</td><td style=\"text-align: right;\">              79</td><td style=\"text-align: right;\">      nan</td><td style=\"text-align: right;\">        -1</td><td style=\"text-align: right;\">        -2</td><td>SAN     </td><td>SFO   </td><td style=\"text-align: right;\">       447</td><td style=\"text-align: right;\">     nan</td><td style=\"text-align: right;\">      nan</td><td style=\"text-align: right;\">          0</td><td>NA                </td><td style=\"text-align: right;\">         0</td><td style=\"text-align: right;\">           nan</td><td style=\"text-align: right;\">           nan</td><td style=\"text-align: right;\">       nan</td><td style=\"text-align: right;\">            nan</td><td style=\"text-align: right;\">                nan</td><td>NO            </td><td>NO            </td><td>NO               </td><td>NO              </td><td>NO              </td></tr>\n",
       "<tr><td style=\"text-align: right;\">  1987</td><td style=\"text-align: right;\">     10</td><td style=\"text-align: right;\">          22</td><td style=\"text-align: right;\">          4</td><td style=\"text-align: right;\">      728</td><td style=\"text-align: right;\">         730</td><td style=\"text-align: right;\">      852</td><td style=\"text-align: right;\">         849</td><td>PS             </td><td style=\"text-align: right;\">       1451</td><td>NA       </td><td style=\"text-align: right;\">                 84</td><td style=\"text-align: right;\">              79</td><td style=\"text-align: right;\">      nan</td><td style=\"text-align: right;\">         3</td><td style=\"text-align: right;\">        -2</td><td>SAN     </td><td>SFO   </td><td style=\"text-align: right;\">       447</td><td style=\"text-align: right;\">     nan</td><td style=\"text-align: right;\">      nan</td><td style=\"text-align: right;\">          0</td><td>NA                </td><td style=\"text-align: right;\">         0</td><td style=\"text-align: right;\">           nan</td><td style=\"text-align: right;\">           nan</td><td style=\"text-align: right;\">       nan</td><td style=\"text-align: right;\">            nan</td><td style=\"text-align: right;\">                nan</td><td>YES           </td><td>NO            </td><td>NO               </td><td>NO              </td><td>NO              </td></tr>\n",
       "<tr><td style=\"text-align: right;\">  1987</td><td style=\"text-align: right;\">     10</td><td style=\"text-align: right;\">          23</td><td style=\"text-align: right;\">          5</td><td style=\"text-align: right;\">      731</td><td style=\"text-align: right;\">         730</td><td style=\"text-align: right;\">      902</td><td style=\"text-align: right;\">         849</td><td>PS             </td><td style=\"text-align: right;\">       1451</td><td>NA       </td><td style=\"text-align: right;\">                 91</td><td style=\"text-align: right;\">              79</td><td style=\"text-align: right;\">      nan</td><td style=\"text-align: right;\">        13</td><td style=\"text-align: right;\">         1</td><td>SAN     </td><td>SFO   </td><td style=\"text-align: right;\">       447</td><td style=\"text-align: right;\">     nan</td><td style=\"text-align: right;\">      nan</td><td style=\"text-align: right;\">          0</td><td>NA                </td><td style=\"text-align: right;\">         0</td><td style=\"text-align: right;\">           nan</td><td style=\"text-align: right;\">           nan</td><td style=\"text-align: right;\">       nan</td><td style=\"text-align: right;\">            nan</td><td style=\"text-align: right;\">                nan</td><td>YES           </td><td>YES           </td><td>YES              </td><td>YES             </td><td>YES             </td></tr>\n",
       "<tr><td style=\"text-align: right;\">  1987</td><td style=\"text-align: right;\">     10</td><td style=\"text-align: right;\">          24</td><td style=\"text-align: right;\">          6</td><td style=\"text-align: right;\">      744</td><td style=\"text-align: right;\">         730</td><td style=\"text-align: right;\">      908</td><td style=\"text-align: right;\">         849</td><td>PS             </td><td style=\"text-align: right;\">       1451</td><td>NA       </td><td style=\"text-align: right;\">                 84</td><td style=\"text-align: right;\">              79</td><td style=\"text-align: right;\">      nan</td><td style=\"text-align: right;\">        19</td><td style=\"text-align: right;\">        14</td><td>SAN     </td><td>SFO   </td><td style=\"text-align: right;\">       447</td><td style=\"text-align: right;\">     nan</td><td style=\"text-align: right;\">      nan</td><td style=\"text-align: right;\">          0</td><td>NA                </td><td style=\"text-align: right;\">         0</td><td style=\"text-align: right;\">           nan</td><td style=\"text-align: right;\">           nan</td><td style=\"text-align: right;\">       nan</td><td style=\"text-align: right;\">            nan</td><td style=\"text-align: right;\">                nan</td><td>YES           </td><td>YES           </td><td>YES              </td><td>YES             </td><td>YES             </td></tr>\n",
       "<tr><td style=\"text-align: right;\">  1987</td><td style=\"text-align: right;\">     10</td><td style=\"text-align: right;\">          25</td><td style=\"text-align: right;\">          7</td><td style=\"text-align: right;\">      729</td><td style=\"text-align: right;\">         730</td><td style=\"text-align: right;\">      851</td><td style=\"text-align: right;\">         849</td><td>PS             </td><td style=\"text-align: right;\">       1451</td><td>NA       </td><td style=\"text-align: right;\">                 82</td><td style=\"text-align: right;\">              79</td><td style=\"text-align: right;\">      nan</td><td style=\"text-align: right;\">         2</td><td style=\"text-align: right;\">        -1</td><td>SAN     </td><td>SFO   </td><td style=\"text-align: right;\">       447</td><td style=\"text-align: right;\">     nan</td><td style=\"text-align: right;\">      nan</td><td style=\"text-align: right;\">          0</td><td>NA                </td><td style=\"text-align: right;\">         0</td><td style=\"text-align: right;\">           nan</td><td style=\"text-align: right;\">           nan</td><td style=\"text-align: right;\">       nan</td><td style=\"text-align: right;\">            nan</td><td style=\"text-align: right;\">                nan</td><td>YES           </td><td>NO            </td><td>NO               </td><td>NO              </td><td>NO              </td></tr>\n",
       "</table>"
      ]
     },
     "metadata": {},
     "output_type": "display_data"
    },
    {
     "data": {
      "text/plain": []
     },
     "execution_count": 48,
     "metadata": {},
     "output_type": "execute_result"
    }
   ],
   "source": [
    "data.head()"
   ]
  },
  {
   "cell_type": "code",
   "execution_count": 13,
   "metadata": {
    "collapsed": false
   },
   "outputs": [
    {
     "data": {
      "text/html": [
       "<table>\n",
       "<tr><th style=\"text-align: right;\">  Month</th><th style=\"text-align: right;\">  sum_Cancelled</th><th style=\"text-align: right;\">  nrow_Year</th></tr>\n",
       "<tr><td style=\"text-align: right;\">      1</td><td style=\"text-align: right;\">           1067</td><td style=\"text-align: right;\">      41979</td></tr>\n",
       "<tr><td style=\"text-align: right;\">     10</td><td style=\"text-align: right;\">             19</td><td style=\"text-align: right;\">       1999</td></tr>\n",
       "</table>"
      ]
     },
     "metadata": {},
     "output_type": "display_data"
    },
    {
     "name": "stdout",
     "output_type": "stream",
     "text": [
      "Rows:2 Cols:3\n",
      "\n",
      "Chunk compression summary: \n"
     ]
    },
    {
     "data": {
      "text/html": [
       "<div style=\"overflow:auto\"><table style=\"width:50%\"><tr><td><b>chunk_type</b></td>\n",
       "<td><b>chunk_name</b></td>\n",
       "<td><b>count</b></td>\n",
       "<td><b>count_percentage</b></td>\n",
       "<td><b>size</b></td>\n",
       "<td><b>size_percentage</b></td></tr>\n",
       "<tr><td>C1N</td>\n",
       "<td>1-Byte Integers (w/o NAs)</td>\n",
       "<td>1</td>\n",
       "<td>33.333336</td>\n",
       "<td>     70  B</td>\n",
       "<td>30.434782</td></tr>\n",
       "<tr><td>C2</td>\n",
       "<td>2-Byte Integers</td>\n",
       "<td>1</td>\n",
       "<td>33.333336</td>\n",
       "<td>     72  B</td>\n",
       "<td>31.304348</td></tr>\n",
       "<tr><td>C2S</td>\n",
       "<td>2-Byte Fractions</td>\n",
       "<td>1</td>\n",
       "<td>33.333336</td>\n",
       "<td>     88  B</td>\n",
       "<td>38.260868</td></tr></table></div>"
      ],
      "text/plain": [
       "chunk_type    chunk_name                 count    count_percentage    size    size_percentage\n",
       "------------  -------------------------  -------  ------------------  ------  -----------------\n",
       "C1N           1-Byte Integers (w/o NAs)  1        33.3333             70  B   30.4348\n",
       "C2            2-Byte Integers            1        33.3333             72  B   31.3043\n",
       "C2S           2-Byte Fractions           1        33.3333             88  B   38.2609"
      ]
     },
     "metadata": {},
     "output_type": "display_data"
    },
    {
     "name": "stdout",
     "output_type": "stream",
     "text": [
      "\n",
      "Frame distribution summary: \n"
     ]
    },
    {
     "data": {
      "text/html": [
       "<div style=\"overflow:auto\"><table style=\"width:50%\"><tr><td><b></b></td>\n",
       "<td><b>size</b></td>\n",
       "<td><b>number_of_rows</b></td>\n",
       "<td><b>number_of_chunks_per_column</b></td>\n",
       "<td><b>number_of_chunks</b></td></tr>\n",
       "<tr><td>127.0.0.1:54321</td>\n",
       "<td>    230  B</td>\n",
       "<td>2.0</td>\n",
       "<td>1.0</td>\n",
       "<td>3.0</td></tr>\n",
       "<tr><td>mean</td>\n",
       "<td>    230  B</td>\n",
       "<td>2.0</td>\n",
       "<td>1.0</td>\n",
       "<td>3.0</td></tr>\n",
       "<tr><td>min</td>\n",
       "<td>    230  B</td>\n",
       "<td>2.0</td>\n",
       "<td>1.0</td>\n",
       "<td>3.0</td></tr>\n",
       "<tr><td>max</td>\n",
       "<td>    230  B</td>\n",
       "<td>2.0</td>\n",
       "<td>1.0</td>\n",
       "<td>3.0</td></tr>\n",
       "<tr><td>stddev</td>\n",
       "<td>      0  B</td>\n",
       "<td>0.0</td>\n",
       "<td>0.0</td>\n",
       "<td>0.0</td></tr>\n",
       "<tr><td>total</td>\n",
       "<td>    230  B</td>\n",
       "<td>2.0</td>\n",
       "<td>1.0</td>\n",
       "<td>3.0</td></tr></table></div>"
      ],
      "text/plain": [
       "                 size    number_of_rows    number_of_chunks_per_column    number_of_chunks\n",
       "---------------  ------  ----------------  -----------------------------  ------------------\n",
       "127.0.0.1:54321  230  B  2                 1                              3\n",
       "mean             230  B  2                 1                              3\n",
       "min              230  B  2                 1                              3\n",
       "max              230  B  2                 1                              3\n",
       "stddev           0  B    0                 0                              0\n",
       "total            230  B  2                 1                              3"
      ]
     },
     "metadata": {},
     "output_type": "display_data"
    },
    {
     "name": "stdout",
     "output_type": "stream",
     "text": [
      "\n",
      "\n"
     ]
    },
    {
     "data": {
      "text/html": [
       "<table>\n",
       "<tr><th>       </th><th>Month        </th><th>sum_Cancelled  </th><th>nrow_Year    </th></tr>\n",
       "<tr><td>type   </td><td>int          </td><td>int            </td><td>int          </td></tr>\n",
       "<tr><td>mins   </td><td>1.0          </td><td>19.0           </td><td>1999.0       </td></tr>\n",
       "<tr><td>mean   </td><td>5.5          </td><td>543.0          </td><td>21989.0      </td></tr>\n",
       "<tr><td>maxs   </td><td>10.0         </td><td>1067.0         </td><td>41979.0      </td></tr>\n",
       "<tr><td>sigma  </td><td>6.36396103068</td><td>741.047906684  </td><td>28270.1291118</td></tr>\n",
       "<tr><td>zeros  </td><td>0            </td><td>0              </td><td>0            </td></tr>\n",
       "<tr><td>missing</td><td>0            </td><td>0              </td><td>0            </td></tr>\n",
       "<tr><td>0      </td><td>1.0          </td><td>1067.0         </td><td>41979.0      </td></tr>\n",
       "<tr><td>1      </td><td>10.0         </td><td>19.0           </td><td>1999.0       </td></tr>\n",
       "</table>"
      ]
     },
     "metadata": {},
     "output_type": "display_data"
    },
    {
     "data": {
      "text/plain": [
       "[2, 3]"
      ]
     },
     "execution_count": 13,
     "metadata": {},
     "output_type": "execute_result"
    }
   ],
   "source": [
    "# Group flights by month\n",
    "grouped = data.group_by(\"Month\")\n",
    "bpd = grouped.count().sum(\"Cancelled\").frame\n",
    "bpd.show()\n",
    "bpd.describe()\n",
    "bpd.dim"
   ]
  },
  {
   "cell_type": "code",
   "execution_count": 9,
   "metadata": {
    "collapsed": false
   },
   "outputs": [],
   "source": [
    "# Convert columns to factors\n",
    "data[\"Year\"]      = data[\"Year\"]     .asfactor()\n",
    "data[\"Month\"]     = data[\"Month\"]    .asfactor()\n",
    "data[\"DayOfWeek\"] = data[\"DayOfWeek\"].asfactor()\n",
    "data[\"Cancelled\"] = data[\"Cancelled\"].asfactor()"
   ]
  },
  {
   "cell_type": "code",
   "execution_count": 16,
   "metadata": {
    "collapsed": false
   },
   "outputs": [
    {
     "data": {
      "text/html": [
       "<table>\n",
       "<tr><th style=\"text-align: right;\">  CRSArrTime</th></tr>\n",
       "<tr><td style=\"text-align: right;\">       558.4</td></tr>\n",
       "</table>"
      ]
     },
     "metadata": {},
     "output_type": "display_data"
    },
    {
     "data": {
      "text/plain": []
     },
     "execution_count": 16,
     "metadata": {},
     "output_type": "execute_result"
    }
   ],
   "source": [
    "# Calculate and plot travel time\n",
    "hour1 = data[\"CRSArrTime\"] / 100    # divide by 100, return no decimal points.\n",
    "mins1 = data[\"CRSArrTime\"] % 100    # 2 decimal points\n",
    "arrTime = hour1*60 + mins1\n",
    "arrTime.head(1)"
   ]
  },
  {
   "cell_type": "code",
   "execution_count": 17,
   "metadata": {
    "collapsed": false
   },
   "outputs": [
    {
     "data": {
      "text/html": [
       "<table>\n",
       "<tr><th style=\"text-align: right;\">  CRSDepTime</th></tr>\n",
       "<tr><td style=\"text-align: right;\">         468</td></tr>\n",
       "</table>"
      ]
     },
     "metadata": {},
     "output_type": "display_data"
    },
    {
     "data": {
      "text/plain": []
     },
     "execution_count": 17,
     "metadata": {},
     "output_type": "execute_result"
    }
   ],
   "source": [
    "hour2 = data[\"CRSDepTime\"] / 100\n",
    "mins2 = data[\"CRSDepTime\"] % 100\n",
    "depTime = hour2*60 + mins2\n",
    "depTime.head(1)"
   ]
  },
  {
   "cell_type": "code",
   "execution_count": 18,
   "metadata": {
    "collapsed": false
   },
   "outputs": [
    {
     "name": "stdout",
     "output_type": "stream",
     "text": [
      "\n",
      "Parse Progress: [##################################################] 100%\n",
      "\n",
      "glm Model Build Progress: [##################################################] 100%\n"
     ]
    }
   ],
   "source": [
    "# TODO: Replace this once list comprehension is supported. See PUBDEV-1286.\n",
    "# data[\"TravelTime\"] = [x if x > 0 else None for x in (arrTime - depTime)]\n",
    "data[\"TravelTime\"] = (arrTime-depTime > 0).ifelse((arrTime-depTime), h2o.H2OFrame([[None]] * data.nrow))\n",
    "scatter_plot(data, \"Distance\", \"TravelTime\")"
   ]
  },
  {
   "cell_type": "code",
   "execution_count": 20,
   "metadata": {
    "collapsed": false
   },
   "outputs": [
    {
     "name": "stdout",
     "output_type": "stream",
     "text": [
      "\n",
      "glm Model Build Progress: [##################################################] 100%\n"
     ]
    }
   ],
   "source": [
    "# Impute missing travel times and re-plot\n",
    "data.impute(column = \"Distance\", by = [\"Origin\", \"Dest\"])\n",
    "scatter_plot(data, \"Distance\", \"TravelTime\")"
   ]
  },
  {
   "cell_type": "markdown",
   "metadata": {},
   "source": [
    "### 3- Fit a model on train; using test as validation"
   ]
  },
  {
   "cell_type": "code",
   "execution_count": 21,
   "metadata": {
    "collapsed": true
   },
   "outputs": [],
   "source": [
    "# Create test/train split\n",
    "s = data[\"Year\"].runif()\n",
    "train = data[s <= 0.75]\n",
    "test  = data[s > 0.75]"
   ]
  },
  {
   "cell_type": "code",
   "execution_count": 22,
   "metadata": {
    "collapsed": true
   },
   "outputs": [],
   "source": [
    "# Set predictor and response variables\n",
    "myY = \"IsDepDelayed\"\n",
    "myX = [\"Origin\", \"Dest\", \"Year\", \"UniqueCarrier\", \"DayOfWeek\", \"Month\", \"Distance\", \"FlightNum\"]"
   ]
  },
  {
   "cell_type": "markdown",
   "metadata": {},
   "source": [
    "#### GLM"
   ]
  },
  {
   "cell_type": "code",
   "execution_count": 24,
   "metadata": {
    "collapsed": false
   },
   "outputs": [
    {
     "name": "stdout",
     "output_type": "stream",
     "text": [
      "\n",
      "glm Model Build Progress: [##################################################] 100%\n"
     ]
    }
   ],
   "source": [
    "# Simple GLM - Predict Delays\n",
    "data_glm = H2OGeneralizedLinearEstimator(family=\"binomial\", standardize=True)\n",
    "data_glm.train(x               =myX,\n",
    "               y               =myY,\n",
    "               training_frame  =train,\n",
    "               validation_frame=test)"
   ]
  },
  {
   "cell_type": "markdown",
   "metadata": {},
   "source": [
    "#### GBM"
   ]
  },
  {
   "cell_type": "code",
   "execution_count": 26,
   "metadata": {
    "collapsed": false
   },
   "outputs": [
    {
     "name": "stdout",
     "output_type": "stream",
     "text": [
      "\n",
      "gbm Model Build Progress: [##################################################] 100%\n"
     ]
    }
   ],
   "source": [
    "# Simple GBM\n",
    "data_gbm = H2OGradientBoostingEstimator(balance_classes=True,\n",
    "                                        ntrees         =3,\n",
    "                                        max_depth      =1,\n",
    "                                        distribution   =\"bernoulli\",\n",
    "                                        learn_rate     =0.1,\n",
    "                                        min_rows       =2)\n",
    "data_gbm.train(x               =myX,\n",
    "               y               =myY,\n",
    "               training_frame  =train,\n",
    "               validation_frame=test)"
   ]
  },
  {
   "cell_type": "code",
   "execution_count": 27,
   "metadata": {
    "collapsed": false
   },
   "outputs": [
    {
     "name": "stdout",
     "output_type": "stream",
     "text": [
      "\n",
      "gbm Model Build Progress: [##################################################] 100%\n"
     ]
    }
   ],
   "source": [
    "# Complex GBM\n",
    "data_gbm2 = H2OGradientBoostingEstimator(balance_classes=True,\n",
    "                                         ntrees         =50,           #Increase \n",
    "                                         max_depth      =5,            #Increase\n",
    "                                         distribution   =\"bernoulli\",\n",
    "                                         learn_rate     =0.1,\n",
    "                                         min_rows       =2)\n",
    "\n",
    "data_gbm2.train(x               =myX,\n",
    "                y               =myY,\n",
    "                training_frame  =train,\n",
    "                validation_frame=test)"
   ]
  },
  {
   "cell_type": "markdown",
   "metadata": {},
   "source": [
    "#### Random Forest"
   ]
  },
  {
   "cell_type": "code",
   "execution_count": 28,
   "metadata": {
    "collapsed": false
   },
   "outputs": [
    {
     "name": "stdout",
     "output_type": "stream",
     "text": [
      "\n",
      "drf Model Build Progress: [##################################################] 100%\n"
     ]
    }
   ],
   "source": [
    "# Simple Random Forest\n",
    "data_rf = H2ORandomForestEstimator(ntrees         =5,\n",
    "                                   max_depth      =2,\n",
    "                                   balance_classes=True)\n",
    "\n",
    "data_rf.train(x               =myX,\n",
    "              y               =myY,\n",
    "              training_frame  =train,\n",
    "              validation_frame=test)"
   ]
  },
  {
   "cell_type": "code",
   "execution_count": 29,
   "metadata": {
    "collapsed": false
   },
   "outputs": [
    {
     "name": "stdout",
     "output_type": "stream",
     "text": [
      "\n",
      "drf Model Build Progress: [##################################################] 100%\n"
     ]
    }
   ],
   "source": [
    "# Complex Random Forest\n",
    "data_rf2 = H2ORandomForestEstimator(ntrees         =10,\n",
    "                                    max_depth      =5,\n",
    "                                    balance_classes=True)\n",
    "\n",
    "data_rf2.train(x               =myX,\n",
    "               y               =myY,\n",
    "               training_frame  =train,\n",
    "               validation_frame=test)"
   ]
  },
  {
   "cell_type": "markdown",
   "metadata": {},
   "source": [
    "#### Deep Learning"
   ]
  },
  {
   "cell_type": "code",
   "execution_count": 30,
   "metadata": {
    "collapsed": false
   },
   "outputs": [
    {
     "name": "stdout",
     "output_type": "stream",
     "text": [
      "\n",
      "deeplearning Model Build Progress: [##################################################] 100%\n"
     ]
    }
   ],
   "source": [
    "# Deep Learning with 5 epochs\n",
    "data_dl = H2ODeepLearningEstimator(hidden              =[10,10],\n",
    "                                   epochs              =5,\n",
    "                                   variable_importances=True,\n",
    "                                   balance_classes     =True,\n",
    "                                   loss                =\"Automatic\")\n",
    "\n",
    "data_dl.train(x               =myX,\n",
    "              y               =myY,\n",
    "              training_frame  =train,\n",
    "              validation_frame=test)"
   ]
  },
  {
   "cell_type": "markdown",
   "metadata": {},
   "source": [
    "### 4- Model Evaluation"
   ]
  },
  {
   "cell_type": "markdown",
   "metadata": {},
   "source": [
    "Variable Importance\n",
    "\n",
    "#### GLM:"
   ]
  },
  {
   "cell_type": "code",
   "execution_count": 31,
   "metadata": {
    "collapsed": true
   },
   "outputs": [],
   "source": [
    "# Variable importances from each algorithm\n",
    "# Calculate magnitude of normalized GLM coefficients\n",
    "from six import iteritems\n",
    "glm_varimp = data_glm.coef_norm()\n",
    "for k,v in iteritems(glm_varimp):\n",
    "    glm_varimp[k] = abs(glm_varimp[k])"
   ]
  },
  {
   "cell_type": "code",
   "execution_count": 32,
   "metadata": {
    "collapsed": false,
    "scrolled": true
   },
   "outputs": [
    {
     "name": "stdout",
     "output_type": "stream",
     "text": [
      "Variable Importances:\n",
      "\n",
      "| Predictor                 |   Normalized Coefficient |\n",
      "|---------------------------+--------------------------|\n",
      "| Year.2008                 |              2.1131      |\n",
      "| Origin.MDW                |              1.63015     |\n",
      "| Origin.HPN                |              1.59973     |\n",
      "| Year.2003                 |              1.55188     |\n",
      "| Origin.LIH                |              1.48413     |\n",
      "| Year.2007                 |              1.37056     |\n",
      "| Dest.LYH                  |              1.2822      |\n",
      "| Origin.GRR                |              1.27255     |\n",
      "| UniqueCarrier.TW          |              1.21211     |\n",
      "| UniqueCarrier.HP          |              1.16888     |\n",
      "| Origin.TLH                |              1.15401     |\n",
      "| Origin.CAE                |              1.14564     |\n",
      "| Origin.LEX                |              1.10873     |\n",
      "| Dest.HTS                  |              1.10631     |\n",
      "| Origin.MYR                |              1.10127     |\n",
      "| Origin.HNL                |              1.06722     |\n",
      "| Year.2002                 |              1.04237     |\n",
      "| Origin.ERI                |              1.01724     |\n",
      "| Origin.PBI                |              0.996723    |\n",
      "| Year.2001                 |              0.989347    |\n",
      "| Origin.ATL                |              0.957914    |\n",
      "| Origin.TRI                |              0.956945    |\n",
      "| Origin.CRP                |              0.946903    |\n",
      "| Origin.CHO                |              0.849854    |\n",
      "| Origin.OGG                |              0.849704    |\n",
      "| Dest.CHO                  |              0.832154    |\n",
      "| Origin.LYH                |              0.832154    |\n",
      "| Origin.SAV                |              0.825667    |\n",
      "| Year.2006                 |              0.825168    |\n",
      "| Dest.CAK                  |              0.818196    |\n",
      "| Year.2004                 |              0.807348    |\n",
      "| Origin.ORD                |              0.785186    |\n",
      "| Origin.IAH                |              0.780339    |\n",
      "| Origin.STL                |              0.774878    |\n",
      "| Year.1994                 |              0.76596     |\n",
      "| Dest.PSP                  |              0.762003    |\n",
      "| Origin.OMA                |              0.743085    |\n",
      "| Origin.BTV                |              0.732825    |\n",
      "| Origin.PSP                |              0.708908    |\n",
      "| Origin.EYW                |              0.691773    |\n",
      "| Dest.DAY                  |              0.689014    |\n",
      "| Origin.CMH                |              0.680379    |\n",
      "| Dest.ICT                  |              0.680141    |\n",
      "| Dest.ISP                  |              0.657119    |\n",
      "| Origin.AUS                |              0.64127     |\n",
      "| Origin.MRY                |              0.62667     |\n",
      "| Dest.TPA                  |              0.613776    |\n",
      "| Origin.LAX                |              0.608201    |\n",
      "| Origin.FLL                |              0.601968    |\n",
      "| Origin.PIT                |              0.601654    |\n",
      "| Dest.KOA                  |              0.596597    |\n",
      "| Year.1996                 |              0.596474    |\n",
      "| Dest.COS                  |              0.580768    |\n",
      "| Year.1990                 |              0.580191    |\n",
      "| Dest.GSO                  |              0.574379    |\n",
      "| Origin.JAX                |              0.570428    |\n",
      "| Origin.GSO                |              0.555906    |\n",
      "| Origin.RNO                |              0.552218    |\n",
      "| Dest.IAH                  |              0.548922    |\n",
      "| Origin.MIA                |              0.531997    |\n",
      "| Dest.SFO                  |              0.531684    |\n",
      "| Dest.FLL                  |              0.530944    |\n",
      "| Origin.JFK                |              0.52752     |\n",
      "| Origin.MCO                |              0.524887    |\n",
      "| Origin.MSY                |              0.519521    |\n",
      "| Origin.ALB                |              0.511915    |\n",
      "| Year.1997                 |              0.507769    |\n",
      "| Origin.SYR                |              0.504063    |\n",
      "| Dest.PBI                  |              0.500519    |\n",
      "| Origin.SRQ                |              0.498117    |\n",
      "| Origin.ROC                |              0.494205    |\n",
      "| Origin.OKC                |              0.491491    |\n",
      "| Origin.LGA                |              0.485738    |\n",
      "| UniqueCarrier.CO          |              0.48513     |\n",
      "| Origin.ACY                |              0.468768    |\n",
      "| Origin.PHL                |              0.468394    |\n",
      "| Origin.BOI                |              0.465677    |\n",
      "| Origin.IND                |              0.464214    |\n",
      "| Dest.IND                  |              0.459721    |\n",
      "| Dest.TOL                  |              0.45852     |\n",
      "| Dest.STL                  |              0.456953    |\n",
      "| Dest.FAY                  |              0.453512    |\n",
      "| Year.2005                 |              0.450423    |\n",
      "| Dest.BDL                  |              0.441489    |\n",
      "| Dest.CLE                  |              0.439737    |\n",
      "| Origin.CRW                |              0.437361    |\n",
      "| Origin.TUS                |              0.433579    |\n",
      "| Origin.MEM                |              0.429981    |\n",
      "| Dest.GEG                  |              0.424031    |\n",
      "| Origin.DFW                |              0.420703    |\n",
      "| UniqueCarrier.WN          |              0.41891     |\n",
      "| Dest.CHS                  |              0.411563    |\n",
      "| UniqueCarrier.PI          |              0.387468    |\n",
      "| Origin.STX                |              0.386043    |\n",
      "| Origin.BUF                |              0.384763    |\n",
      "| Origin.IAD                |              0.384643    |\n",
      "| Dest.SLC                  |              0.355532    |\n",
      "| Dest.MCO                  |              0.348533    |\n",
      "| Origin.ROA                |              0.335496    |\n",
      "| Dest.CAE                  |              0.333705    |\n",
      "| Dest.MAF                  |              0.330205    |\n",
      "| Dest.BGM                  |              0.32637     |\n",
      "| Origin.MDT                |              0.323835    |\n",
      "| UniqueCarrier.US          |              0.316232    |\n",
      "| Dest.BUR                  |              0.316196    |\n",
      "| Origin.BHM                |              0.312666    |\n",
      "| Origin.BUR                |              0.309925    |\n",
      "| Dest.BHM                  |              0.307128    |\n",
      "| Dest.BUF                  |              0.303       |\n",
      "| Origin.TPA                |              0.302795    |\n",
      "| Origin.CLT                |              0.295555    |\n",
      "| Year.1992                 |              0.294122    |\n",
      "| Dest.PNS                  |              0.28953     |\n",
      "| Origin.EGE                |              0.286919    |\n",
      "| Year.1991                 |              0.28459     |\n",
      "| Dest.RSW                  |              0.27023     |\n",
      "| Dest.SAT                  |              0.26822     |\n",
      "| Dest.LIH                  |              0.267552    |\n",
      "| DayOfWeek.5               |              0.266185    |\n",
      "| Origin.SAN                |              0.259409    |\n",
      "| Origin.COS                |              0.255692    |\n",
      "| Origin.SLC                |              0.253022    |\n",
      "| Dest.AVL                  |              0.250252    |\n",
      "| Origin.BWI                |              0.249626    |\n",
      "| Origin.BDL                |              0.249419    |\n",
      "| Origin.BOS                |              0.249265    |\n",
      "| Origin.PWM                |              0.24908     |\n",
      "| Dest.ALB                  |              0.234852    |\n",
      "| Month.10                  |              0.230917    |\n",
      "| Year.1987                 |              0.230917    |\n",
      "| Origin.MCI                |              0.228045    |\n",
      "| Dest.LBB                  |              0.227135    |\n",
      "| Origin.DEN                |              0.225065    |\n",
      "| Dest.BTV                  |              0.224192    |\n",
      "| Dest.ROA                  |              0.220921    |\n",
      "| Origin.OAK                |              0.219448    |\n",
      "| Dest.AVP                  |              0.217009    |\n",
      "| Year.1995                 |              0.216035    |\n",
      "| Dest.OAK                  |              0.210695    |\n",
      "| Dest.HOU                  |              0.209388    |\n",
      "| UniqueCarrier.AA          |              0.206342    |\n",
      "| Dest.SEA                  |              0.205506    |\n",
      "| Dest.TUL                  |              0.197708    |\n",
      "| Dest.SAN                  |              0.197363    |\n",
      "| Dest.ABQ                  |              0.194822    |\n",
      "| Dest.CLT                  |              0.188387    |\n",
      "| Dest.IAD                  |              0.187605    |\n",
      "| Dest.SNA                  |              0.178546    |\n",
      "| DayOfWeek.4               |              0.174394    |\n",
      "| Origin.SFO                |              0.174211    |\n",
      "| Origin.GEG                |              0.173795    |\n",
      "| Year.1993                 |              0.16976     |\n",
      "| Dest.SMF                  |              0.168508    |\n",
      "| Origin.CHS                |              0.167735    |\n",
      "| Origin.PDX                |              0.162111    |\n",
      "| Dest.LAX                  |              0.160489    |\n",
      "| Dest.MKE                  |              0.159973    |\n",
      "| Distance                  |              0.157984    |\n",
      "| Origin.RDU                |              0.156317    |\n",
      "| Dest.OMA                  |              0.156195    |\n",
      "| Origin.ELP                |              0.153871    |\n",
      "| Dest.CMH                  |              0.151877    |\n",
      "| Dest.BWI                  |              0.14778     |\n",
      "| DayOfWeek.2               |              0.147245    |\n",
      "| Dest.LGA                  |              0.145655    |\n",
      "| Dest.PHX                  |              0.144538    |\n",
      "| DayOfWeek.6               |              0.143698    |\n",
      "| Dest.RDU                  |              0.14194     |\n",
      "| Origin.CLE                |              0.139411    |\n",
      "| Dest.BNA                  |              0.139196    |\n",
      "| Dest.ATL                  |              0.127672    |\n",
      "| Dest.MCI                  |              0.124297    |\n",
      "| Origin.PVD                |              0.122388    |\n",
      "| Month.1                   |              0.121863    |\n",
      "| Origin.HOU                |              0.11203     |\n",
      "| Dest.ORD                  |              0.109934    |\n",
      "| Year.1998                 |              0.106998    |\n",
      "| Year.1999                 |              0.106957    |\n",
      "| Dest.ORF                  |              0.105781    |\n",
      "| Origin.SJC                |              0.104721    |\n",
      "| Dest.PHL                  |              0.0997446   |\n",
      "| Origin.DAY                |              0.0962669   |\n",
      "| Dest.MIA                  |              0.0944965   |\n",
      "| Dest.SJC                  |              0.09372     |\n",
      "| Dest.LAS                  |              0.0915324   |\n",
      "| Year.1989                 |              0.0907011   |\n",
      "| Year.2000                 |              0.0867153   |\n",
      "| Dest.MSP                  |              0.0861847   |\n",
      "| Origin.SEA                |              0.0860594   |\n",
      "| Dest.DEN                  |              0.0815277   |\n",
      "| Dest.UCA                  |              0.0813477   |\n",
      "| Origin.SAT                |              0.0776844   |\n",
      "| UniqueCarrier.UA          |              0.077285    |\n",
      "| Dest.PVD                  |              0.0765451   |\n",
      "| Origin.CVG                |              0.0762177   |\n",
      "| Dest.SBN                  |              0.0745266   |\n",
      "| Dest.HRL                  |              0.0695287   |\n",
      "| DayOfWeek.7               |              0.0689912   |\n",
      "| Origin.LIT                |              0.0650953   |\n",
      "| Dest.SYR                  |              0.060021    |\n",
      "| Origin.PHX                |              0.0583912   |\n",
      "| Dest.EWR                  |              0.0562804   |\n",
      "| Origin.SMF                |              0.0544326   |\n",
      "| FlightNum                 |              0.0540207   |\n",
      "| Origin.MSP                |              0.0540115   |\n",
      "| Intercept                 |              0.0504122   |\n",
      "| Year.1988                 |              0.0498328   |\n",
      "| Origin.MKE                |              0.0441463   |\n",
      "| Origin.RSW                |              0.0413862   |\n",
      "| Origin.DTW                |              0.0410513   |\n",
      "| Origin.DCA                |              0.0406727   |\n",
      "| Dest.PDX                  |              0.0271361   |\n",
      "| Dest.GSP                  |              0.0221158   |\n",
      "| Dest.OKC                  |              0.0214997   |\n",
      "| Origin.LAS                |              0.0176849   |\n",
      "| DayOfWeek.3               |              0.0168771   |\n",
      "| UniqueCarrier.PS          |              0.00706427  |\n",
      "| Dest.AUS                  |              0.00492705  |\n",
      "| Dest.DFW                  |              0.00405498  |\n",
      "| Dest.DCA                  |              0.00233323  |\n",
      "| Dest.DTW                  |              0.000203484 |\n",
      "| Dest.LIT                  |              0           |\n",
      "| Origin.BGM                |              0           |\n",
      "| Dest.HPN                  |              0           |\n",
      "| Dest.ORH                  |              0           |\n",
      "| Dest.RNO                  |              0           |\n",
      "| Origin.ANC                |              0           |\n",
      "| Dest.SRQ                  |              0           |\n",
      "| DayOfWeek.missing(NA)     |              0           |\n",
      "| Dest.MRY                  |              0           |\n",
      "| Dest.SJU                  |              0           |\n",
      "| UniqueCarrier.DL          |              0           |\n",
      "| Dest.MSY                  |              0           |\n",
      "| Dest.PIT                  |              0           |\n",
      "| Origin.SNA                |              0           |\n",
      "| Origin.AVP                |              0           |\n",
      "| Origin.BNA                |              0           |\n",
      "| Dest.DSM                  |              0           |\n",
      "| Dest.HNL                  |              0           |\n",
      "| Origin.SCK                |              0           |\n",
      "| Dest.PWM                  |              0           |\n",
      "| Origin.ISP                |              0           |\n",
      "| Origin.RIC                |              0           |\n",
      "| Origin.LAN                |              0           |\n",
      "| Month.missing(NA)         |              0           |\n",
      "| Origin.ICT                |              0           |\n",
      "| Dest.ABE                  |              0           |\n",
      "| Dest.GRR                  |              0           |\n",
      "| Dest.SWF                  |              0           |\n",
      "| Origin.KOA                |              0           |\n",
      "| Dest.missing(NA)          |              0           |\n",
      "| Dest.DAL                  |              0           |\n",
      "| Origin.UCA                |              0           |\n",
      "| Dest.JFK                  |              0           |\n",
      "| Origin.AMA                |              0           |\n",
      "| Dest.ERI                  |              0           |\n",
      "| Dest.ROC                  |              0           |\n",
      "| Dest.ACY                  |              0           |\n",
      "| Dest.FNT                  |              0           |\n",
      "| Dest.OAJ                  |              0           |\n",
      "| Dest.CRP                  |              0           |\n",
      "| Origin.MFR                |              0           |\n",
      "| Origin.ONT                |              0           |\n",
      "| Dest.JAX                  |              0           |\n",
      "| Origin.MHT                |              0           |\n",
      "| Dest.JAN                  |              0           |\n",
      "| Origin.DSM                |              0           |\n",
      "| Dest.TUS                  |              0           |\n",
      "| Origin.STT                |              0           |\n",
      "| Dest.FAT                  |              0           |\n",
      "| Origin.ABQ                |              0           |\n",
      "| Dest.ELP                  |              0           |\n",
      "| Dest.ELM                  |              0           |\n",
      "| Dest.CHA                  |              0           |\n",
      "| Origin.ABE                |              0           |\n",
      "| Origin.SBN                |              0           |\n",
      "| Origin.SJU                |              0           |\n",
      "| Origin.ORF                |              0           |\n",
      "| Dest.MDW                  |              0           |\n",
      "| Dest.MDT                  |              0           |\n",
      "| Origin.HRL                |              0           |\n",
      "| Origin.LBB                |              0           |\n",
      "| Origin.GNV                |              0           |\n",
      "| Dest.AMA                  |              0           |\n",
      "| Dest.LEX                  |              0           |\n",
      "| Dest.BOS                  |              0           |\n",
      "| Origin.TUL                |              0           |\n",
      "| Dest.RIC                  |              0           |\n",
      "| Origin.TYS                |              0           |\n",
      "| Origin.JAN                |              0           |\n",
      "| Dest.BOI                  |              0           |\n",
      "| Origin.MLB                |              0           |\n",
      "| Dest.OGG                  |              0           |\n",
      "| Origin.missing(NA)        |              0           |\n",
      "| Origin.SDF                |              0           |\n",
      "| Dest.ILM                  |              0           |\n",
      "| Dest.SDF                  |              0           |\n",
      "| Dest.PHF                  |              0           |\n",
      "| Year.missing(NA)          |              0           |\n",
      "| Dest.ANC                  |              0           |\n",
      "| DayOfWeek.1               |              0           |\n",
      "| Dest.STT                  |              0           |\n",
      "| Dest.EYW                  |              0           |\n",
      "| Dest.MHT                  |              0           |\n",
      "| Origin.EWR                |              0           |\n",
      "| Origin.MAF                |              0           |\n",
      "| Origin.SWF                |              0           |\n",
      "| Dest.ONT                  |              0           |\n",
      "| Dest.EUG                  |              0           |\n",
      "| Dest.MYR                  |              0           |\n",
      "| Dest.SCK                  |              0           |\n",
      "| UniqueCarrier.missing(NA) |              0           |\n",
      "| Origin.PHF                |              0           |\n",
      "| Origin.BIL                |              0           |\n",
      "| Dest.CVG                  |              0           |\n",
      "| Origin.DAL                |              0           |\n"
     ]
    }
   ],
   "source": [
    "# Sort in descending order by magnitude\n",
    "glm_sorted = sorted(glm_varimp.items(), key = operator.itemgetter(1), reverse = True)\n",
    "table = tabulate(glm_sorted, headers = [\"Predictor\", \"Normalized Coefficient\"], tablefmt = \"orgtbl\")\n",
    "print(\"Variable Importances:\\n\\n\" + table)"
   ]
  },
  {
   "cell_type": "markdown",
   "metadata": {},
   "source": [
    "#### GBM\n",
    "\n",
    "varimp ranks features by importance in the model and returns 3 numbers for every feature:\n",
    "- variable relative_importance \n",
    "- scaled_importance \n",
    "- percentage"
   ]
  },
  {
   "cell_type": "code",
   "execution_count": 48,
   "metadata": {
    "collapsed": false
   },
   "outputs": [
    {
     "name": "stdout",
     "output_type": "stream",
     "text": [
      "| Predictor     |   relative_importance |   scaled_importance |   percentage |\n",
      "|---------------+-----------------------+---------------------+--------------|\n",
      "| Year          |               1265.57 |                   1 |            1 |\n",
      "| Month         |                  0    |                   0 |            0 |\n",
      "| DayOfWeek     |                  0    |                   0 |            0 |\n",
      "| UniqueCarrier |                  0    |                   0 |            0 |\n",
      "| FlightNum     |                  0    |                   0 |            0 |\n",
      "| Origin        |                  0    |                   0 |            0 |\n",
      "| Dest          |                  0    |                   0 |            0 |\n",
      "| Distance      |                  0    |                   0 |            0 |\n"
     ]
    }
   ],
   "source": [
    "print tabulate(data_gbm.varimp(), headers = [\"Predictor\", \"relative_importance\", \"scaled_importance\", \"percentage\"], tablefmt = \"orgtbl\")"
   ]
  },
  {
   "cell_type": "code",
   "execution_count": 49,
   "metadata": {
    "collapsed": false
   },
   "outputs": [
    {
     "name": "stdout",
     "output_type": "stream",
     "text": [
      "| Predictor     |   relative_importance |   scaled_importance |   percentage |\n",
      "|---------------+-----------------------+---------------------+--------------|\n",
      "| Origin        |              5002.48  |           1         |   0.370954   |\n",
      "| Year          |              4320.86  |           0.863744  |   0.320409   |\n",
      "| Dest          |              3028.85  |           0.605469  |   0.224601   |\n",
      "| UniqueCarrier |               416.63  |           0.0832848 |   0.0308948  |\n",
      "| DayOfWeek     |               393.034 |           0.0785679 |   0.0291451  |\n",
      "| FlightNum     |               206.998 |           0.0413791 |   0.0153498  |\n",
      "| Distance      |               116.585 |           0.0233054 |   0.00864525 |\n",
      "| Month         |                 0     |           0         |   0          |\n"
     ]
    }
   ],
   "source": [
    "print tabulate(data_gbm2.varimp(), headers = [\"Predictor\", \"relative_importance\", \"scaled_importance\", \"percentage\"], tablefmt = \"orgtbl\")"
   ]
  },
  {
   "cell_type": "markdown",
   "metadata": {},
   "source": [
    "#### RF"
   ]
  },
  {
   "cell_type": "code",
   "execution_count": 50,
   "metadata": {
    "collapsed": false
   },
   "outputs": [
    {
     "name": "stdout",
     "output_type": "stream",
     "text": [
      "| Predictor     |   relative_importance |   scaled_importance |   percentage |\n",
      "|---------------+-----------------------+---------------------+--------------|\n",
      "| Year          |            1137.81    |          1          |   0.575161   |\n",
      "| Origin        |             540.45    |          0.474992   |   0.273197   |\n",
      "| FlightNum     |             130.724   |          0.114891   |   0.0660809  |\n",
      "| UniqueCarrier |              62.9088  |          0.0552895  |   0.0318004  |\n",
      "| DayOfWeek     |              59.4246  |          0.0522273  |   0.0300391  |\n",
      "| Dest          |              40.8272  |          0.0358823  |   0.0206381  |\n",
      "| Distance      |               6.10068 |          0.00536179 |   0.00308389 |\n",
      "| Month         |               0       |          0          |   0          |\n"
     ]
    }
   ],
   "source": [
    "print tabulate(data_rf.varimp(), headers = [\"Predictor\", \"relative_importance\", \"scaled_importance\", \"percentage\"], tablefmt = \"orgtbl\")"
   ]
  },
  {
   "cell_type": "code",
   "execution_count": 51,
   "metadata": {
    "collapsed": false
   },
   "outputs": [
    {
     "name": "stdout",
     "output_type": "stream",
     "text": [
      "| Predictor     |   relative_importance |   scaled_importance |   percentage |\n",
      "|---------------+-----------------------+---------------------+--------------|\n",
      "| Origin        |             2765.45   |          1          |   0.347586   |\n",
      "| Year          |             2290.27   |          0.828171   |   0.287861   |\n",
      "| Dest          |             1647.37   |          0.595698   |   0.207057   |\n",
      "| UniqueCarrier |              583.46   |          0.210982   |   0.0733345  |\n",
      "| FlightNum     |              384.383  |          0.138995   |   0.0483127  |\n",
      "| DayOfWeek     |              175.07   |          0.0633062  |   0.0220044  |\n",
      "| Distance      |               94.9799 |          0.0343452  |   0.0119379  |\n",
      "| Month         |               15.1693 |          0.00548528 |   0.00190661 |\n"
     ]
    }
   ],
   "source": [
    "print tabulate(data_rf2.varimp(), headers = [\"Predictor\", \"relative_importance\", \"scaled_importance\", \"percentage\"], tablefmt = \"orgtbl\")"
   ]
  },
  {
   "cell_type": "markdown",
   "metadata": {},
   "source": [
    "Model Performance on test data\n",
    "\n",
    "**GLM**"
   ]
  },
  {
   "cell_type": "code",
   "execution_count": 52,
   "metadata": {
    "collapsed": false
   },
   "outputs": [
    {
     "name": "stdout",
     "output_type": "stream",
     "text": [
      "\n",
      "ModelMetricsBinomialGLM: glm\n",
      "** Reported on test data. **\n",
      "\n",
      "MSE: 0.215320317858\n",
      "R^2: 0.137128283161\n",
      "LogLoss: 0.619436244795\n",
      "Null degrees of freedom: 10993\n",
      "Residual degrees of freedom: 10773\n",
      "Null deviance: 15221.6608227\n",
      "Residual deviance: 13620.1641505\n",
      "AIC: 14062.1641505\n",
      "AUC: 0.713829832276\n",
      "Gini: 0.427659664551\n",
      "\n",
      "Confusion Matrix (Act/Pred) for max f1 @ threshold = 0.357488777917: \n"
     ]
    },
    {
     "data": {
      "text/html": [
       "<div style=\"overflow:auto\"><table style=\"width:50%\"><tr><td><b></b></td>\n",
       "<td><b>NO</b></td>\n",
       "<td><b>YES</b></td>\n",
       "<td><b>Error</b></td>\n",
       "<td><b>Rate</b></td></tr>\n",
       "<tr><td>NO</td>\n",
       "<td>1686.0</td>\n",
       "<td>3575.0</td>\n",
       "<td>0.6795</td>\n",
       "<td> (3575.0/5261.0)</td></tr>\n",
       "<tr><td>YES</td>\n",
       "<td>675.0</td>\n",
       "<td>5058.0</td>\n",
       "<td>0.1177</td>\n",
       "<td> (675.0/5733.0)</td></tr>\n",
       "<tr><td>Total</td>\n",
       "<td>2361.0</td>\n",
       "<td>8633.0</td>\n",
       "<td>0.3866</td>\n",
       "<td> (4250.0/10994.0)</td></tr></table></div>"
      ],
      "text/plain": [
       "       NO    YES    Error    Rate\n",
       "-----  ----  -----  -------  ----------------\n",
       "NO     1686  3575   0.6795   (3575.0/5261.0)\n",
       "YES    675   5058   0.1177   (675.0/5733.0)\n",
       "Total  2361  8633   0.3866   (4250.0/10994.0)"
      ]
     },
     "metadata": {},
     "output_type": "display_data"
    },
    {
     "name": "stdout",
     "output_type": "stream",
     "text": [
      "\n",
      "Maximum Metrics: Maximum metrics at their respective thresholds\n",
      "\n"
     ]
    },
    {
     "data": {
      "text/html": [
       "<div style=\"overflow:auto\"><table style=\"width:50%\"><tr><td><b>metric</b></td>\n",
       "<td><b>threshold</b></td>\n",
       "<td><b>value</b></td>\n",
       "<td><b>idx</b></td></tr>\n",
       "<tr><td>max f1</td>\n",
       "<td>0.3574888</td>\n",
       "<td>0.7041626</td>\n",
       "<td>288.0</td></tr>\n",
       "<tr><td>max f2</td>\n",
       "<td>0.1383360</td>\n",
       "<td>0.8458469</td>\n",
       "<td>384.0</td></tr>\n",
       "<tr><td>max f0point5</td>\n",
       "<td>0.5598263</td>\n",
       "<td>0.6802843</td>\n",
       "<td>178.0</td></tr>\n",
       "<tr><td>max accuracy</td>\n",
       "<td>0.4976592</td>\n",
       "<td>0.6644533</td>\n",
       "<td>211.0</td></tr>\n",
       "<tr><td>max precision</td>\n",
       "<td>0.9832504</td>\n",
       "<td>1.0</td>\n",
       "<td>0.0</td></tr>\n",
       "<tr><td>max recall</td>\n",
       "<td>0.0779967</td>\n",
       "<td>1.0</td>\n",
       "<td>398.0</td></tr>\n",
       "<tr><td>max specificity</td>\n",
       "<td>0.9832504</td>\n",
       "<td>1.0</td>\n",
       "<td>0.0</td></tr>\n",
       "<tr><td>max absolute_MCC</td>\n",
       "<td>0.5421518</td>\n",
       "<td>0.3265985</td>\n",
       "<td>187.0</td></tr>\n",
       "<tr><td>max min_per_class_accuracy</td>\n",
       "<td>0.5226907</td>\n",
       "<td>0.6605208</td>\n",
       "<td>198.0</td></tr></table></div>"
      ],
      "text/plain": [
       "metric                      threshold    value     idx\n",
       "--------------------------  -----------  --------  -----\n",
       "max f1                      0.357489     0.704163  288\n",
       "max f2                      0.138336     0.845847  384\n",
       "max f0point5                0.559826     0.680284  178\n",
       "max accuracy                0.497659     0.664453  211\n",
       "max precision               0.98325      1         0\n",
       "max recall                  0.0779967    1         398\n",
       "max specificity             0.98325      1         0\n",
       "max absolute_MCC            0.542152     0.326598  187\n",
       "max min_per_class_accuracy  0.522691     0.660521  198"
      ]
     },
     "metadata": {},
     "output_type": "display_data"
    },
    {
     "name": "stdout",
     "output_type": "stream",
     "text": [
      "\n",
      "Gains/Lift Table: Avg response rate: 52.15 %\n",
      "\n"
     ]
    },
    {
     "data": {
      "text/html": [
       "<div style=\"overflow:auto\"><table style=\"width:50%\"><tr><td><b></b></td>\n",
       "<td><b>group</b></td>\n",
       "<td><b>cumulative_data_fraction</b></td>\n",
       "<td><b>lower_threshold</b></td>\n",
       "<td><b>lift</b></td>\n",
       "<td><b>cumulative_lift</b></td>\n",
       "<td><b>response_rate</b></td>\n",
       "<td><b>cumulative_response_rate</b></td>\n",
       "<td><b>capture_rate</b></td>\n",
       "<td><b>cumulative_capture_rate</b></td>\n",
       "<td><b>gain</b></td>\n",
       "<td><b>cumulative_gain</b></td></tr>\n",
       "<tr><td></td>\n",
       "<td>1</td>\n",
       "<td>0.0100055</td>\n",
       "<td>0.9198348</td>\n",
       "<td>1.8653696</td>\n",
       "<td>1.8653696</td>\n",
       "<td>0.9727273</td>\n",
       "<td>0.9727273</td>\n",
       "<td>0.0186639</td>\n",
       "<td>0.0186639</td>\n",
       "<td>86.5369551</td>\n",
       "<td>86.5369551</td></tr>\n",
       "<tr><td></td>\n",
       "<td>2</td>\n",
       "<td>0.0200109</td>\n",
       "<td>0.8958523</td>\n",
       "<td>1.7084693</td>\n",
       "<td>1.7869194</td>\n",
       "<td>0.8909091</td>\n",
       "<td>0.9318182</td>\n",
       "<td>0.0170940</td>\n",
       "<td>0.0357579</td>\n",
       "<td>70.8469308</td>\n",
       "<td>78.6919430</td></tr>\n",
       "<tr><td></td>\n",
       "<td>3</td>\n",
       "<td>0.0300164</td>\n",
       "<td>0.8739085</td>\n",
       "<td>1.6736026</td>\n",
       "<td>1.7491471</td>\n",
       "<td>0.8727273</td>\n",
       "<td>0.9121212</td>\n",
       "<td>0.0167452</td>\n",
       "<td>0.0525031</td>\n",
       "<td>67.3602588</td>\n",
       "<td>74.9147149</td></tr>\n",
       "<tr><td></td>\n",
       "<td>4</td>\n",
       "<td>0.0400218</td>\n",
       "<td>0.8595675</td>\n",
       "<td>1.6213025</td>\n",
       "<td>1.7171860</td>\n",
       "<td>0.8454545</td>\n",
       "<td>0.8954545</td>\n",
       "<td>0.0162219</td>\n",
       "<td>0.0687249</td>\n",
       "<td>62.1302507</td>\n",
       "<td>71.7185989</td></tr>\n",
       "<tr><td></td>\n",
       "<td>5</td>\n",
       "<td>0.0500273</td>\n",
       "<td>0.8463910</td>\n",
       "<td>1.5690024</td>\n",
       "<td>1.6875493</td>\n",
       "<td>0.8181818</td>\n",
       "<td>0.88</td>\n",
       "<td>0.0156986</td>\n",
       "<td>0.0844235</td>\n",
       "<td>56.9002426</td>\n",
       "<td>68.7549276</td></tr>\n",
       "<tr><td></td>\n",
       "<td>6</td>\n",
       "<td>0.1000546</td>\n",
       "<td>0.7880522</td>\n",
       "<td>1.5550557</td>\n",
       "<td>1.6213025</td>\n",
       "<td>0.8109091</td>\n",
       "<td>0.8454545</td>\n",
       "<td>0.0777952</td>\n",
       "<td>0.1622187</td>\n",
       "<td>55.5055738</td>\n",
       "<td>62.1302507</td></tr>\n",
       "<tr><td></td>\n",
       "<td>7</td>\n",
       "<td>0.1500819</td>\n",
       "<td>0.7332656</td>\n",
       "<td>1.4121022</td>\n",
       "<td>1.5515691</td>\n",
       "<td>0.7363636</td>\n",
       "<td>0.8090909</td>\n",
       "<td>0.0706436</td>\n",
       "<td>0.2328624</td>\n",
       "<td>41.2102184</td>\n",
       "<td>55.1569066</td></tr>\n",
       "<tr><td></td>\n",
       "<td>8</td>\n",
       "<td>0.2000182</td>\n",
       "<td>0.6937665</td>\n",
       "<td>1.3413208</td>\n",
       "<td>1.4990787</td>\n",
       "<td>0.6994536</td>\n",
       "<td>0.7817190</td>\n",
       "<td>0.0669806</td>\n",
       "<td>0.2998430</td>\n",
       "<td>34.1320835</td>\n",
       "<td>49.9078716</td></tr>\n",
       "<tr><td></td>\n",
       "<td>9</td>\n",
       "<td>0.3000728</td>\n",
       "<td>0.6383579</td>\n",
       "<td>1.2987853</td>\n",
       "<td>1.4322940</td>\n",
       "<td>0.6772727</td>\n",
       "<td>0.7468930</td>\n",
       "<td>0.1299494</td>\n",
       "<td>0.4297924</td>\n",
       "<td>29.8785342</td>\n",
       "<td>43.2294020</td></tr>\n",
       "<tr><td></td>\n",
       "<td>10</td>\n",
       "<td>0.4000364</td>\n",
       "<td>0.5807701</td>\n",
       "<td>1.2109761</td>\n",
       "<td>1.3769897</td>\n",
       "<td>0.6314832</td>\n",
       "<td>0.7180537</td>\n",
       "<td>0.1210535</td>\n",
       "<td>0.5508460</td>\n",
       "<td>21.0976092</td>\n",
       "<td>37.6989699</td></tr>\n",
       "<tr><td></td>\n",
       "<td>11</td>\n",
       "<td>0.5</td>\n",
       "<td>0.5266619</td>\n",
       "<td>1.0347389</td>\n",
       "<td>1.3085645</td>\n",
       "<td>0.5395814</td>\n",
       "<td>0.6823722</td>\n",
       "<td>0.1034362</td>\n",
       "<td>0.6542822</td>\n",
       "<td>3.4738937</td>\n",
       "<td>30.8564451</td></tr>\n",
       "<tr><td></td>\n",
       "<td>12</td>\n",
       "<td>0.6001455</td>\n",
       "<td>0.4645055</td>\n",
       "<td>0.9492552</td>\n",
       "<td>1.2486070</td>\n",
       "<td>0.4950045</td>\n",
       "<td>0.6511064</td>\n",
       "<td>0.0950637</td>\n",
       "<td>0.7493459</td>\n",
       "<td>-5.0744823</td>\n",
       "<td>24.8606963</td></tr>\n",
       "<tr><td></td>\n",
       "<td>13</td>\n",
       "<td>0.7000182</td>\n",
       "<td>0.4062835</td>\n",
       "<td>0.7160697</td>\n",
       "<td>1.1726291</td>\n",
       "<td>0.3734062</td>\n",
       "<td>0.6114865</td>\n",
       "<td>0.0715158</td>\n",
       "<td>0.8208617</td>\n",
       "<td>-28.3930283</td>\n",
       "<td>17.2629065</td></tr>\n",
       "<tr><td></td>\n",
       "<td>14</td>\n",
       "<td>0.7999818</td>\n",
       "<td>0.3455482</td>\n",
       "<td>0.6909892</td>\n",
       "<td>1.1124446</td>\n",
       "<td>0.3603276</td>\n",
       "<td>0.5801023</td>\n",
       "<td>0.0690738</td>\n",
       "<td>0.8899355</td>\n",
       "<td>-30.9010760</td>\n",
       "<td>11.2444623</td></tr>\n",
       "<tr><td></td>\n",
       "<td>15</td>\n",
       "<td>0.9000364</td>\n",
       "<td>0.2666075</td>\n",
       "<td>0.6415477</td>\n",
       "<td>1.0600963</td>\n",
       "<td>0.3345455</td>\n",
       "<td>0.5528044</td>\n",
       "<td>0.0641898</td>\n",
       "<td>0.9541252</td>\n",
       "<td>-35.8452341</td>\n",
       "<td>6.0096300</td></tr>\n",
       "<tr><td></td>\n",
       "<td>16</td>\n",
       "<td>1.0</td>\n",
       "<td>0.0690776</td>\n",
       "<td>0.4589146</td>\n",
       "<td>1.0</td>\n",
       "<td>0.2393085</td>\n",
       "<td>0.5214663</td>\n",
       "<td>0.0458748</td>\n",
       "<td>1.0</td>\n",
       "<td>-54.1085429</td>\n",
       "<td>0.0</td></tr></table></div>"
      ],
      "text/plain": [
       "    group    cumulative_data_fraction    lower_threshold    lift      cumulative_lift    response_rate    cumulative_response_rate    capture_rate    cumulative_capture_rate    gain      cumulative_gain\n",
       "--  -------  --------------------------  -----------------  --------  -----------------  ---------------  --------------------------  --------------  -------------------------  --------  -----------------\n",
       "    1        0.0100055                   0.919835           1.86537   1.86537            0.972727         0.972727                    0.0186639       0.0186639                  86.537    86.537\n",
       "    2        0.0200109                   0.895852           1.70847   1.78692            0.890909         0.931818                    0.017094        0.0357579                  70.8469   78.6919\n",
       "    3        0.0300164                   0.873908           1.6736    1.74915            0.872727         0.912121                    0.0167452       0.0525031                  67.3603   74.9147\n",
       "    4        0.0400218                   0.859567           1.6213    1.71719            0.845455         0.895455                    0.0162219       0.0687249                  62.1303   71.7186\n",
       "    5        0.0500273                   0.846391           1.569     1.68755            0.818182         0.88                        0.0156986       0.0844235                  56.9002   68.7549\n",
       "    6        0.100055                    0.788052           1.55506   1.6213             0.810909         0.845455                    0.0777952       0.162219                   55.5056   62.1303\n",
       "    7        0.150082                    0.733266           1.4121    1.55157            0.736364         0.809091                    0.0706436       0.232862                   41.2102   55.1569\n",
       "    8        0.200018                    0.693766           1.34132   1.49908            0.699454         0.781719                    0.0669806       0.299843                   34.1321   49.9079\n",
       "    9        0.300073                    0.638358           1.29879   1.43229            0.677273         0.746893                    0.129949        0.429792                   29.8785   43.2294\n",
       "    10       0.400036                    0.58077            1.21098   1.37699            0.631483         0.718054                    0.121054        0.550846                   21.0976   37.699\n",
       "    11       0.5                         0.526662           1.03474   1.30856            0.539581         0.682372                    0.103436        0.654282                   3.47389   30.8564\n",
       "    12       0.600146                    0.464506           0.949255  1.24861            0.495005         0.651106                    0.0950637       0.749346                   -5.07448  24.8607\n",
       "    13       0.700018                    0.406283           0.71607   1.17263            0.373406         0.611486                    0.0715158       0.820862                   -28.393   17.2629\n",
       "    14       0.799982                    0.345548           0.690989  1.11244            0.360328         0.580102                    0.0690738       0.889935                   -30.9011  11.2445\n",
       "    15       0.900036                    0.266607           0.641548  1.0601             0.334545         0.552804                    0.0641898       0.954125                   -35.8452  6.00963\n",
       "    16       1                           0.0690776          0.458915  1                  0.239308         0.521466                    0.0458748       1                          -54.1085  0"
      ]
     },
     "metadata": {},
     "output_type": "display_data"
    },
    {
     "name": "stdout",
     "output_type": "stream",
     "text": [
      "\n"
     ]
    },
    {
     "data": {
      "text/plain": []
     },
     "execution_count": 52,
     "metadata": {},
     "output_type": "execute_result"
    }
   ],
   "source": [
    "data_glm.model_performance(test)"
   ]
  },
  {
   "cell_type": "markdown",
   "metadata": {},
   "source": [
    "**GBM2**"
   ]
  },
  {
   "cell_type": "code",
   "execution_count": 59,
   "metadata": {
    "collapsed": false
   },
   "outputs": [
    {
     "name": "stdout",
     "output_type": "stream",
     "text": [
      "\n",
      "ModelMetricsBinomial: gbm\n",
      "** Reported on test data. **\n",
      "\n",
      "MSE: 0.207509711429\n",
      "R^2: 0.168428401266\n",
      "LogLoss: 0.602440610978\n",
      "AUC: 0.737145793355\n",
      "Gini: 0.474291586709\n",
      "\n",
      "Confusion Matrix (Act/Pred) for max f1 @ threshold = 0.395996389793: \n"
     ]
    },
    {
     "data": {
      "text/html": [
       "<div style=\"overflow:auto\"><table style=\"width:50%\"><tr><td><b></b></td>\n",
       "<td><b>NO</b></td>\n",
       "<td><b>YES</b></td>\n",
       "<td><b>Error</b></td>\n",
       "<td><b>Rate</b></td></tr>\n",
       "<tr><td>NO</td>\n",
       "<td>2405.0</td>\n",
       "<td>2856.0</td>\n",
       "<td>0.5429</td>\n",
       "<td> (2856.0/5261.0)</td></tr>\n",
       "<tr><td>YES</td>\n",
       "<td>928.0</td>\n",
       "<td>4805.0</td>\n",
       "<td>0.1619</td>\n",
       "<td> (928.0/5733.0)</td></tr>\n",
       "<tr><td>Total</td>\n",
       "<td>3333.0</td>\n",
       "<td>7661.0</td>\n",
       "<td>0.3442</td>\n",
       "<td> (3784.0/10994.0)</td></tr></table></div>"
      ],
      "text/plain": [
       "       NO    YES    Error    Rate\n",
       "-----  ----  -----  -------  ----------------\n",
       "NO     2405  2856   0.5429   (2856.0/5261.0)\n",
       "YES    928   4805   0.1619   (928.0/5733.0)\n",
       "Total  3333  7661   0.3442   (3784.0/10994.0)"
      ]
     },
     "metadata": {},
     "output_type": "display_data"
    },
    {
     "name": "stdout",
     "output_type": "stream",
     "text": [
      "\n",
      "Maximum Metrics: Maximum metrics at their respective thresholds\n",
      "\n"
     ]
    },
    {
     "data": {
      "text/html": [
       "<div style=\"overflow:auto\"><table style=\"width:50%\"><tr><td><b>metric</b></td>\n",
       "<td><b>threshold</b></td>\n",
       "<td><b>value</b></td>\n",
       "<td><b>idx</b></td></tr>\n",
       "<tr><td>max f1</td>\n",
       "<td>0.3959964</td>\n",
       "<td>0.7174854</td>\n",
       "<td>261.0</td></tr>\n",
       "<tr><td>max f2</td>\n",
       "<td>0.1450753</td>\n",
       "<td>0.8460515</td>\n",
       "<td>385.0</td></tr>\n",
       "<tr><td>max f0point5</td>\n",
       "<td>0.5580366</td>\n",
       "<td>0.6999330</td>\n",
       "<td>179.0</td></tr>\n",
       "<tr><td>max accuracy</td>\n",
       "<td>0.4905562</td>\n",
       "<td>0.6808259</td>\n",
       "<td>212.0</td></tr>\n",
       "<tr><td>max precision</td>\n",
       "<td>0.9620279</td>\n",
       "<td>1.0</td>\n",
       "<td>0.0</td></tr>\n",
       "<tr><td>max recall</td>\n",
       "<td>0.0988716</td>\n",
       "<td>1.0</td>\n",
       "<td>397.0</td></tr>\n",
       "<tr><td>max specificity</td>\n",
       "<td>0.9620279</td>\n",
       "<td>1.0</td>\n",
       "<td>0.0</td></tr>\n",
       "<tr><td>max absolute_MCC</td>\n",
       "<td>0.5580366</td>\n",
       "<td>0.3631585</td>\n",
       "<td>179.0</td></tr>\n",
       "<tr><td>max min_per_class_accuracy</td>\n",
       "<td>0.5166197</td>\n",
       "<td>0.6789584</td>\n",
       "<td>199.0</td></tr></table></div>"
      ],
      "text/plain": [
       "metric                      threshold    value     idx\n",
       "--------------------------  -----------  --------  -----\n",
       "max f1                      0.395996     0.717485  261\n",
       "max f2                      0.145075     0.846051  385\n",
       "max f0point5                0.558037     0.699933  179\n",
       "max accuracy                0.490556     0.680826  212\n",
       "max precision               0.962028     1         0\n",
       "max recall                  0.0988716    1         397\n",
       "max specificity             0.962028     1         0\n",
       "max absolute_MCC            0.558037     0.363159  179\n",
       "max min_per_class_accuracy  0.51662      0.678958  199"
      ]
     },
     "metadata": {},
     "output_type": "display_data"
    },
    {
     "name": "stdout",
     "output_type": "stream",
     "text": [
      "\n",
      "Gains/Lift Table: Avg response rate: 52.15 %\n",
      "\n"
     ]
    },
    {
     "data": {
      "text/html": [
       "<div style=\"overflow:auto\"><table style=\"width:50%\"><tr><td><b></b></td>\n",
       "<td><b>group</b></td>\n",
       "<td><b>cumulative_data_fraction</b></td>\n",
       "<td><b>lower_threshold</b></td>\n",
       "<td><b>lift</b></td>\n",
       "<td><b>cumulative_lift</b></td>\n",
       "<td><b>response_rate</b></td>\n",
       "<td><b>cumulative_response_rate</b></td>\n",
       "<td><b>capture_rate</b></td>\n",
       "<td><b>cumulative_capture_rate</b></td>\n",
       "<td><b>gain</b></td>\n",
       "<td><b>cumulative_gain</b></td></tr>\n",
       "<tr><td></td>\n",
       "<td>1</td>\n",
       "<td>0.0100964</td>\n",
       "<td>0.9214375</td>\n",
       "<td>1.7967355</td>\n",
       "<td>1.7967355</td>\n",
       "<td>0.9369369</td>\n",
       "<td>0.9369369</td>\n",
       "<td>0.0181406</td>\n",
       "<td>0.0181406</td>\n",
       "<td>79.6735511</td>\n",
       "<td>79.6735511</td></tr>\n",
       "<tr><td></td>\n",
       "<td>2</td>\n",
       "<td>0.0200109</td>\n",
       "<td>0.8939416</td>\n",
       "<td>1.6185835</td>\n",
       "<td>1.7084693</td>\n",
       "<td>0.8440367</td>\n",
       "<td>0.8909091</td>\n",
       "<td>0.0160474</td>\n",
       "<td>0.0341880</td>\n",
       "<td>61.8583543</td>\n",
       "<td>70.8469308</td></tr>\n",
       "<tr><td></td>\n",
       "<td>3</td>\n",
       "<td>0.0300164</td>\n",
       "<td>0.8837243</td>\n",
       "<td>1.7607694</td>\n",
       "<td>1.7259027</td>\n",
       "<td>0.9181818</td>\n",
       "<td>0.9</td>\n",
       "<td>0.0176173</td>\n",
       "<td>0.0518053</td>\n",
       "<td>76.0769389</td>\n",
       "<td>72.5902669</td></tr>\n",
       "<tr><td></td>\n",
       "<td>4</td>\n",
       "<td>0.0402037</td>\n",
       "<td>0.8707860</td>\n",
       "<td>1.7464491</td>\n",
       "<td>1.7311090</td>\n",
       "<td>0.9107143</td>\n",
       "<td>0.9027149</td>\n",
       "<td>0.0177917</td>\n",
       "<td>0.0695971</td>\n",
       "<td>74.6449129</td>\n",
       "<td>73.1109012</td></tr>\n",
       "<tr><td></td>\n",
       "<td>5</td>\n",
       "<td>0.0502092</td>\n",
       "<td>0.8563083</td>\n",
       "<td>1.6387359</td>\n",
       "<td>1.7127013</td>\n",
       "<td>0.8545455</td>\n",
       "<td>0.8931159</td>\n",
       "<td>0.0163963</td>\n",
       "<td>0.0859934</td>\n",
       "<td>63.8735867</td>\n",
       "<td>71.2701320</td></tr>\n",
       "<tr><td></td>\n",
       "<td>6</td>\n",
       "<td>0.1001455</td>\n",
       "<td>0.8017461</td>\n",
       "<td>1.6067906</td>\n",
       "<td>1.6598902</td>\n",
       "<td>0.8378871</td>\n",
       "<td>0.8655767</td>\n",
       "<td>0.0802372</td>\n",
       "<td>0.1662306</td>\n",
       "<td>60.6790584</td>\n",
       "<td>65.9890245</td></tr>\n",
       "<tr><td></td>\n",
       "<td>7</td>\n",
       "<td>0.1499909</td>\n",
       "<td>0.7545543</td>\n",
       "<td>1.4452510</td>\n",
       "<td>1.5885608</td>\n",
       "<td>0.7536496</td>\n",
       "<td>0.8283808</td>\n",
       "<td>0.0720391</td>\n",
       "<td>0.2382697</td>\n",
       "<td>44.5251018</td>\n",
       "<td>58.8560775</td></tr>\n",
       "<tr><td></td>\n",
       "<td>8</td>\n",
       "<td>0.2002911</td>\n",
       "<td>0.7239732</td>\n",
       "<td>1.4009738</td>\n",
       "<td>1.5414511</td>\n",
       "<td>0.7305606</td>\n",
       "<td>0.8038147</td>\n",
       "<td>0.0704692</td>\n",
       "<td>0.3087389</td>\n",
       "<td>40.0973836</td>\n",
       "<td>54.1451067</td></tr>\n",
       "<tr><td></td>\n",
       "<td>9</td>\n",
       "<td>0.3000728</td>\n",
       "<td>0.6591716</td>\n",
       "<td>1.3635208</td>\n",
       "<td>1.4822848</td>\n",
       "<td>0.7110301</td>\n",
       "<td>0.7729615</td>\n",
       "<td>0.1360544</td>\n",
       "<td>0.4447933</td>\n",
       "<td>36.3520796</td>\n",
       "<td>48.2284802</td></tr>\n",
       "<tr><td></td>\n",
       "<td>10</td>\n",
       "<td>0.4001273</td>\n",
       "<td>0.5869353</td>\n",
       "<td>1.2325386</td>\n",
       "<td>1.4198341</td>\n",
       "<td>0.6427273</td>\n",
       "<td>0.7403955</td>\n",
       "<td>0.1233211</td>\n",
       "<td>0.5681144</td>\n",
       "<td>23.2538573</td>\n",
       "<td>41.9834051</td></tr>\n",
       "<tr><td></td>\n",
       "<td>11</td>\n",
       "<td>0.5</td>\n",
       "<td>0.5220266</td>\n",
       "<td>1.0286953</td>\n",
       "<td>1.3417059</td>\n",
       "<td>0.5364299</td>\n",
       "<td>0.6996544</td>\n",
       "<td>0.1027385</td>\n",
       "<td>0.6708530</td>\n",
       "<td>2.8695276</td>\n",
       "<td>34.1705913</td></tr>\n",
       "<tr><td></td>\n",
       "<td>12</td>\n",
       "<td>0.6000546</td>\n",
       "<td>0.4538232</td>\n",
       "<td>0.9501181</td>\n",
       "<td>1.2764116</td>\n",
       "<td>0.4954545</td>\n",
       "<td>0.6656056</td>\n",
       "<td>0.0950637</td>\n",
       "<td>0.7659166</td>\n",
       "<td>-4.9881864</td>\n",
       "<td>27.6411604</td></tr>\n",
       "<tr><td></td>\n",
       "<td>13</td>\n",
       "<td>0.7001092</td>\n",
       "<td>0.3930142</td>\n",
       "<td>0.7444045</td>\n",
       "<td>1.2003810</td>\n",
       "<td>0.3881818</td>\n",
       "<td>0.6259582</td>\n",
       "<td>0.0744811</td>\n",
       "<td>0.8403977</td>\n",
       "<td>-25.5595516</td>\n",
       "<td>20.0380965</td></tr>\n",
       "<tr><td></td>\n",
       "<td>14</td>\n",
       "<td>0.8001637</td>\n",
       "<td>0.3321693</td>\n",
       "<td>0.6188843</td>\n",
       "<td>1.1276691</td>\n",
       "<td>0.3227273</td>\n",
       "<td>0.5880414</td>\n",
       "<td>0.0619222</td>\n",
       "<td>0.9023199</td>\n",
       "<td>-38.1115710</td>\n",
       "<td>12.7669092</td></tr>\n",
       "<tr><td></td>\n",
       "<td>15</td>\n",
       "<td>0.9002183</td>\n",
       "<td>0.2661050</td>\n",
       "<td>0.5561242</td>\n",
       "<td>1.0641449</td>\n",
       "<td>0.29</td>\n",
       "<td>0.5549156</td>\n",
       "<td>0.0556428</td>\n",
       "<td>0.9579627</td>\n",
       "<td>-44.3875807</td>\n",
       "<td>6.4144854</td></tr>\n",
       "<tr><td></td>\n",
       "<td>16</td>\n",
       "<td>1.0</td>\n",
       "<td>0.0836348</td>\n",
       "<td>0.4212930</td>\n",
       "<td>1.0</td>\n",
       "<td>0.2196901</td>\n",
       "<td>0.5214663</td>\n",
       "<td>0.0420373</td>\n",
       "<td>1.0</td>\n",
       "<td>-57.8707036</td>\n",
       "<td>0.0</td></tr></table></div>"
      ],
      "text/plain": [
       "    group    cumulative_data_fraction    lower_threshold    lift      cumulative_lift    response_rate    cumulative_response_rate    capture_rate    cumulative_capture_rate    gain      cumulative_gain\n",
       "--  -------  --------------------------  -----------------  --------  -----------------  ---------------  --------------------------  --------------  -------------------------  --------  -----------------\n",
       "    1        0.0100964                   0.921437           1.79674   1.79674            0.936937         0.936937                    0.0181406       0.0181406                  79.6736   79.6736\n",
       "    2        0.0200109                   0.893942           1.61858   1.70847            0.844037         0.890909                    0.0160474       0.034188                   61.8584   70.8469\n",
       "    3        0.0300164                   0.883724           1.76077   1.7259             0.918182         0.9                         0.0176173       0.0518053                  76.0769   72.5903\n",
       "    4        0.0402037                   0.870786           1.74645   1.73111            0.910714         0.902715                    0.0177917       0.0695971                  74.6449   73.1109\n",
       "    5        0.0502092                   0.856308           1.63874   1.7127             0.854545         0.893116                    0.0163963       0.0859934                  63.8736   71.2701\n",
       "    6        0.100146                    0.801746           1.60679   1.65989            0.837887         0.865577                    0.0802372       0.166231                   60.6791   65.989\n",
       "    7        0.149991                    0.754554           1.44525   1.58856            0.75365          0.828381                    0.0720391       0.23827                    44.5251   58.8561\n",
       "    8        0.200291                    0.723973           1.40097   1.54145            0.730561         0.803815                    0.0704692       0.308739                   40.0974   54.1451\n",
       "    9        0.300073                    0.659172           1.36352   1.48228            0.71103          0.772962                    0.136054        0.444793                   36.3521   48.2285\n",
       "    10       0.400127                    0.586935           1.23254   1.41983            0.642727         0.740396                    0.123321        0.568114                   23.2539   41.9834\n",
       "    11       0.5                         0.522027           1.0287    1.34171            0.53643          0.699654                    0.102739        0.670853                   2.86953   34.1706\n",
       "    12       0.600055                    0.453823           0.950118  1.27641            0.495455         0.665606                    0.0950637       0.765917                   -4.98819  27.6412\n",
       "    13       0.700109                    0.393014           0.744404  1.20038            0.388182         0.625958                    0.0744811       0.840398                   -25.5596  20.0381\n",
       "    14       0.800164                    0.332169           0.618884  1.12767            0.322727         0.588041                    0.0619222       0.90232                    -38.1116  12.7669\n",
       "    15       0.900218                    0.266105           0.556124  1.06414            0.29             0.554916                    0.0556428       0.957963                   -44.3876  6.41449\n",
       "    16       1                           0.0836348          0.421293  1                  0.21969          0.521466                    0.0420373       1                          -57.8707  0"
      ]
     },
     "metadata": {},
     "output_type": "display_data"
    },
    {
     "name": "stdout",
     "output_type": "stream",
     "text": [
      "\n"
     ]
    },
    {
     "data": {
      "text/plain": []
     },
     "execution_count": 59,
     "metadata": {},
     "output_type": "execute_result"
    }
   ],
   "source": [
    "# Model performance of GBM model on test data\n",
    "data_gbm2.model_performance(test)"
   ]
  },
  {
   "cell_type": "markdown",
   "metadata": {},
   "source": [
    "**RF2**"
   ]
  },
  {
   "cell_type": "code",
   "execution_count": 57,
   "metadata": {
    "collapsed": false
   },
   "outputs": [
    {
     "name": "stdout",
     "output_type": "stream",
     "text": [
      "\n",
      "ModelMetricsBinomial: drf\n",
      "** Reported on test data. **\n",
      "\n",
      "MSE: 0.217667126881\n",
      "R^2: 0.127723712561\n",
      "LogLoss: 0.625360569476\n",
      "AUC: 0.712806285986\n",
      "Gini: 0.425612571973\n",
      "\n",
      "Confusion Matrix (Act/Pred) for max f1 @ threshold = 0.421544423112: \n"
     ]
    },
    {
     "data": {
      "text/html": [
       "<div style=\"overflow:auto\"><table style=\"width:50%\"><tr><td><b></b></td>\n",
       "<td><b>NO</b></td>\n",
       "<td><b>YES</b></td>\n",
       "<td><b>Error</b></td>\n",
       "<td><b>Rate</b></td></tr>\n",
       "<tr><td>NO</td>\n",
       "<td>1888.0</td>\n",
       "<td>3373.0</td>\n",
       "<td>0.6411</td>\n",
       "<td> (3373.0/5261.0)</td></tr>\n",
       "<tr><td>YES</td>\n",
       "<td>742.0</td>\n",
       "<td>4991.0</td>\n",
       "<td>0.1294</td>\n",
       "<td> (742.0/5733.0)</td></tr>\n",
       "<tr><td>Total</td>\n",
       "<td>2630.0</td>\n",
       "<td>8364.0</td>\n",
       "<td>0.3743</td>\n",
       "<td> (4115.0/10994.0)</td></tr></table></div>"
      ],
      "text/plain": [
       "       NO    YES    Error    Rate\n",
       "-----  ----  -----  -------  ----------------\n",
       "NO     1888  3373   0.6411   (3373.0/5261.0)\n",
       "YES    742   4991   0.1294   (742.0/5733.0)\n",
       "Total  2630  8364   0.3743   (4115.0/10994.0)"
      ]
     },
     "metadata": {},
     "output_type": "display_data"
    },
    {
     "name": "stdout",
     "output_type": "stream",
     "text": [
      "\n",
      "Maximum Metrics: Maximum metrics at their respective thresholds\n",
      "\n"
     ]
    },
    {
     "data": {
      "text/html": [
       "<div style=\"overflow:auto\"><table style=\"width:50%\"><tr><td><b>metric</b></td>\n",
       "<td><b>threshold</b></td>\n",
       "<td><b>value</b></td>\n",
       "<td><b>idx</b></td></tr>\n",
       "<tr><td>max f1</td>\n",
       "<td>0.4215444</td>\n",
       "<td>0.7080939</td>\n",
       "<td>295.0</td></tr>\n",
       "<tr><td>max f2</td>\n",
       "<td>0.2536380</td>\n",
       "<td>0.8456947</td>\n",
       "<td>388.0</td></tr>\n",
       "<tr><td>max f0point5</td>\n",
       "<td>0.5396780</td>\n",
       "<td>0.6788551</td>\n",
       "<td>205.0</td></tr>\n",
       "<tr><td>max accuracy</td>\n",
       "<td>0.5229355</td>\n",
       "<td>0.6631799</td>\n",
       "<td>218.0</td></tr>\n",
       "<tr><td>max precision</td>\n",
       "<td>0.9097888</td>\n",
       "<td>1.0</td>\n",
       "<td>0.0</td></tr>\n",
       "<tr><td>max recall</td>\n",
       "<td>0.2228195</td>\n",
       "<td>1.0</td>\n",
       "<td>396.0</td></tr>\n",
       "<tr><td>max specificity</td>\n",
       "<td>0.9097888</td>\n",
       "<td>1.0</td>\n",
       "<td>0.0</td></tr>\n",
       "<tr><td>max absolute_MCC</td>\n",
       "<td>0.5262250</td>\n",
       "<td>0.3261935</td>\n",
       "<td>216.0</td></tr>\n",
       "<tr><td>max min_per_class_accuracy</td>\n",
       "<td>0.5229355</td>\n",
       "<td>0.6624804</td>\n",
       "<td>218.0</td></tr></table></div>"
      ],
      "text/plain": [
       "metric                      threshold    value     idx\n",
       "--------------------------  -----------  --------  -----\n",
       "max f1                      0.421544     0.708094  295\n",
       "max f2                      0.253638     0.845695  388\n",
       "max f0point5                0.539678     0.678855  205\n",
       "max accuracy                0.522936     0.66318   218\n",
       "max precision               0.909789     1         0\n",
       "max recall                  0.22282      1         396\n",
       "max specificity             0.909789     1         0\n",
       "max absolute_MCC            0.526225     0.326193  216\n",
       "max min_per_class_accuracy  0.522936     0.66248   218"
      ]
     },
     "metadata": {},
     "output_type": "display_data"
    },
    {
     "name": "stdout",
     "output_type": "stream",
     "text": [
      "\n",
      "Gains/Lift Table: Avg response rate: 52.15 %\n",
      "\n"
     ]
    },
    {
     "data": {
      "text/html": [
       "<div style=\"overflow:auto\"><table style=\"width:50%\"><tr><td><b></b></td>\n",
       "<td><b>group</b></td>\n",
       "<td><b>cumulative_data_fraction</b></td>\n",
       "<td><b>lower_threshold</b></td>\n",
       "<td><b>lift</b></td>\n",
       "<td><b>cumulative_lift</b></td>\n",
       "<td><b>response_rate</b></td>\n",
       "<td><b>cumulative_response_rate</b></td>\n",
       "<td><b>capture_rate</b></td>\n",
       "<td><b>cumulative_capture_rate</b></td>\n",
       "<td><b>gain</b></td>\n",
       "<td><b>cumulative_gain</b></td></tr>\n",
       "<tr><td></td>\n",
       "<td>1</td>\n",
       "<td>0.0100055</td>\n",
       "<td>0.8628798</td>\n",
       "<td>1.6910359</td>\n",
       "<td>1.6910359</td>\n",
       "<td>0.8818182</td>\n",
       "<td>0.8818182</td>\n",
       "<td>0.0169196</td>\n",
       "<td>0.0169196</td>\n",
       "<td>69.1035948</td>\n",
       "<td>69.1035948</td></tr>\n",
       "<tr><td></td>\n",
       "<td>2</td>\n",
       "<td>0.0200109</td>\n",
       "<td>0.8436920</td>\n",
       "<td>1.6561692</td>\n",
       "<td>1.6736026</td>\n",
       "<td>0.8636364</td>\n",
       "<td>0.8727273</td>\n",
       "<td>0.0165707</td>\n",
       "<td>0.0334903</td>\n",
       "<td>65.6169228</td>\n",
       "<td>67.3602588</td></tr>\n",
       "<tr><td></td>\n",
       "<td>3</td>\n",
       "<td>0.0300164</td>\n",
       "<td>0.8156747</td>\n",
       "<td>1.6213025</td>\n",
       "<td>1.6561692</td>\n",
       "<td>0.8454545</td>\n",
       "<td>0.8636364</td>\n",
       "<td>0.0162219</td>\n",
       "<td>0.0497122</td>\n",
       "<td>62.1302507</td>\n",
       "<td>65.6169228</td></tr>\n",
       "<tr><td></td>\n",
       "<td>4</td>\n",
       "<td>0.0402037</td>\n",
       "<td>0.7971578</td>\n",
       "<td>1.7122050</td>\n",
       "<td>1.6703683</td>\n",
       "<td>0.8928571</td>\n",
       "<td>0.8710407</td>\n",
       "<td>0.0174429</td>\n",
       "<td>0.0671551</td>\n",
       "<td>71.2205029</td>\n",
       "<td>67.0368345</td></tr>\n",
       "<tr><td></td>\n",
       "<td>5</td>\n",
       "<td>0.0500273</td>\n",
       "<td>0.7822033</td>\n",
       "<td>1.6868390</td>\n",
       "<td>1.6736026</td>\n",
       "<td>0.8796296</td>\n",
       "<td>0.8727273</td>\n",
       "<td>0.0165707</td>\n",
       "<td>0.0837258</td>\n",
       "<td>68.6839028</td>\n",
       "<td>67.3602588</td></tr>\n",
       "<tr><td></td>\n",
       "<td>6</td>\n",
       "<td>0.1000546</td>\n",
       "<td>0.7331320</td>\n",
       "<td>1.5271624</td>\n",
       "<td>1.6003825</td>\n",
       "<td>0.7963636</td>\n",
       "<td>0.8345455</td>\n",
       "<td>0.0763998</td>\n",
       "<td>0.1601256</td>\n",
       "<td>52.7162361</td>\n",
       "<td>60.0382475</td></tr>\n",
       "<tr><td></td>\n",
       "<td>7</td>\n",
       "<td>0.1503547</td>\n",
       "<td>0.6932084</td>\n",
       "<td>1.4113771</td>\n",
       "<td>1.5371520</td>\n",
       "<td>0.7359855</td>\n",
       "<td>0.8015729</td>\n",
       "<td>0.0709925</td>\n",
       "<td>0.2311181</td>\n",
       "<td>41.1377107</td>\n",
       "<td>53.7152004</td></tr>\n",
       "<tr><td></td>\n",
       "<td>8</td>\n",
       "<td>0.2001092</td>\n",
       "<td>0.6687118</td>\n",
       "<td>1.3392135</td>\n",
       "<td>1.4879373</td>\n",
       "<td>0.6983547</td>\n",
       "<td>0.7759091</td>\n",
       "<td>0.0666318</td>\n",
       "<td>0.2977499</td>\n",
       "<td>33.9213527</td>\n",
       "<td>48.7937301</td></tr>\n",
       "<tr><td></td>\n",
       "<td>9</td>\n",
       "<td>0.3000728</td>\n",
       "<td>0.6257869</td>\n",
       "<td>1.3174164</td>\n",
       "<td>1.4311314</td>\n",
       "<td>0.6869882</td>\n",
       "<td>0.7462868</td>\n",
       "<td>0.1316937</td>\n",
       "<td>0.4294436</td>\n",
       "<td>31.7416353</td>\n",
       "<td>43.1131444</td></tr>\n",
       "<tr><td></td>\n",
       "<td>10</td>\n",
       "<td>0.4003093</td>\n",
       "<td>0.5676497</td>\n",
       "<td>1.1937580</td>\n",
       "<td>1.3716937</td>\n",
       "<td>0.6225045</td>\n",
       "<td>0.7152920</td>\n",
       "<td>0.1196581</td>\n",
       "<td>0.5491017</td>\n",
       "<td>19.3758047</td>\n",
       "<td>37.1693706</td></tr>\n",
       "<tr><td></td>\n",
       "<td>11</td>\n",
       "<td>0.5003638</td>\n",
       "<td>0.5249403</td>\n",
       "<td>1.0721517</td>\n",
       "<td>1.3117962</td>\n",
       "<td>0.5590909</td>\n",
       "<td>0.6840574</td>\n",
       "<td>0.1072737</td>\n",
       "<td>0.6563754</td>\n",
       "<td>7.2151658</td>\n",
       "<td>31.1796187</td></tr>\n",
       "<tr><td></td>\n",
       "<td>12</td>\n",
       "<td>0.6001455</td>\n",
       "<td>0.4782278</td>\n",
       "<td>0.8932809</td>\n",
       "<td>1.2422128</td>\n",
       "<td>0.4658159</td>\n",
       "<td>0.6477721</td>\n",
       "<td>0.0891331</td>\n",
       "<td>0.7455085</td>\n",
       "<td>-10.6719068</td>\n",
       "<td>24.2212793</td></tr>\n",
       "<tr><td></td>\n",
       "<td>13</td>\n",
       "<td>0.7000182</td>\n",
       "<td>0.4445285</td>\n",
       "<td>0.7841837</td>\n",
       "<td>1.1768651</td>\n",
       "<td>0.4089253</td>\n",
       "<td>0.6136954</td>\n",
       "<td>0.0783185</td>\n",
       "<td>0.8238270</td>\n",
       "<td>-21.5816334</td>\n",
       "<td>17.6865082</td></tr>\n",
       "<tr><td></td>\n",
       "<td>14</td>\n",
       "<td>0.7999818</td>\n",
       "<td>0.4025158</td>\n",
       "<td>0.7171631</td>\n",
       "<td>1.1194219</td>\n",
       "<td>0.3739763</td>\n",
       "<td>0.5837408</td>\n",
       "<td>0.0716902</td>\n",
       "<td>0.8955172</td>\n",
       "<td>-28.2836926</td>\n",
       "<td>11.9421932</td></tr>\n",
       "<tr><td></td>\n",
       "<td>15</td>\n",
       "<td>0.9001273</td>\n",
       "<td>0.3553248</td>\n",
       "<td>0.5678114</td>\n",
       "<td>1.0580514</td>\n",
       "<td>0.2960945</td>\n",
       "<td>0.5517381</td>\n",
       "<td>0.0568638</td>\n",
       "<td>0.9523810</td>\n",
       "<td>-43.2188647</td>\n",
       "<td>5.8051353</td></tr>\n",
       "<tr><td></td>\n",
       "<td>16</td>\n",
       "<td>1.0</td>\n",
       "<td>0.2100845</td>\n",
       "<td>0.4767976</td>\n",
       "<td>1.0</td>\n",
       "<td>0.2486339</td>\n",
       "<td>0.5214663</td>\n",
       "<td>0.0476190</td>\n",
       "<td>1.0</td>\n",
       "<td>-52.3202359</td>\n",
       "<td>0.0</td></tr></table></div>"
      ],
      "text/plain": [
       "    group    cumulative_data_fraction    lower_threshold    lift      cumulative_lift    response_rate    cumulative_response_rate    capture_rate    cumulative_capture_rate    gain      cumulative_gain\n",
       "--  -------  --------------------------  -----------------  --------  -----------------  ---------------  --------------------------  --------------  -------------------------  --------  -----------------\n",
       "    1        0.0100055                   0.86288            1.69104   1.69104            0.881818         0.881818                    0.0169196       0.0169196                  69.1036   69.1036\n",
       "    2        0.0200109                   0.843692           1.65617   1.6736             0.863636         0.872727                    0.0165707       0.0334903                  65.6169   67.3603\n",
       "    3        0.0300164                   0.815675           1.6213    1.65617            0.845455         0.863636                    0.0162219       0.0497122                  62.1303   65.6169\n",
       "    4        0.0402037                   0.797158           1.71221   1.67037            0.892857         0.871041                    0.0174429       0.0671551                  71.2205   67.0368\n",
       "    5        0.0500273                   0.782203           1.68684   1.6736             0.87963          0.872727                    0.0165707       0.0837258                  68.6839   67.3603\n",
       "    6        0.100055                    0.733132           1.52716   1.60038            0.796364         0.834545                    0.0763998       0.160126                   52.7162   60.0382\n",
       "    7        0.150355                    0.693208           1.41138   1.53715            0.735986         0.801573                    0.0709925       0.231118                   41.1377   53.7152\n",
       "    8        0.200109                    0.668712           1.33921   1.48794            0.698355         0.775909                    0.0666318       0.29775                    33.9214   48.7937\n",
       "    9        0.300073                    0.625787           1.31742   1.43113            0.686988         0.746287                    0.131694        0.429444                   31.7416   43.1131\n",
       "    10       0.400309                    0.56765            1.19376   1.37169            0.622505         0.715292                    0.119658        0.549102                   19.3758   37.1694\n",
       "    11       0.500364                    0.52494            1.07215   1.3118             0.559091         0.684057                    0.107274        0.656375                   7.21517   31.1796\n",
       "    12       0.600146                    0.478228           0.893281  1.24221            0.465816         0.647772                    0.0891331       0.745508                   -10.6719  24.2213\n",
       "    13       0.700018                    0.444529           0.784184  1.17687            0.408925         0.613695                    0.0783185       0.823827                   -21.5816  17.6865\n",
       "    14       0.799982                    0.402516           0.717163  1.11942            0.373976         0.583741                    0.0716902       0.895517                   -28.2837  11.9422\n",
       "    15       0.900127                    0.355325           0.567811  1.05805            0.296094         0.551738                    0.0568638       0.952381                   -43.2189  5.80514\n",
       "    16       1                           0.210085           0.476798  1                  0.248634         0.521466                    0.047619        1                          -52.3202  0"
      ]
     },
     "metadata": {},
     "output_type": "display_data"
    },
    {
     "name": "stdout",
     "output_type": "stream",
     "text": [
      "\n"
     ]
    },
    {
     "data": {
      "text/plain": []
     },
     "execution_count": 57,
     "metadata": {},
     "output_type": "execute_result"
    }
   ],
   "source": [
    "# Model performance of RF model on test data\n",
    "data_rf2.model_performance(test)"
   ]
  },
  {
   "cell_type": "markdown",
   "metadata": {},
   "source": [
    "#### DL"
   ]
  },
  {
   "cell_type": "code",
   "execution_count": 60,
   "metadata": {
    "collapsed": false
   },
   "outputs": [
    {
     "name": "stdout",
     "output_type": "stream",
     "text": [
      "\n",
      "ModelMetricsBinomial: deeplearning\n",
      "** Reported on test data. **\n",
      "\n",
      "MSE: 0.215124286291\n",
      "R^2: 0.1379138574\n",
      "LogLoss: 0.619287671853\n",
      "AUC: 0.71465728299\n",
      "Gini: 0.429314565981\n",
      "\n",
      "Confusion Matrix (Act/Pred) for max f1 @ threshold = 0.378257191465: \n"
     ]
    },
    {
     "data": {
      "text/html": [
       "<div style=\"overflow:auto\"><table style=\"width:50%\"><tr><td><b></b></td>\n",
       "<td><b>NO</b></td>\n",
       "<td><b>YES</b></td>\n",
       "<td><b>Error</b></td>\n",
       "<td><b>Rate</b></td></tr>\n",
       "<tr><td>NO</td>\n",
       "<td>1930.0</td>\n",
       "<td>3331.0</td>\n",
       "<td>0.6331</td>\n",
       "<td> (3331.0/5261.0)</td></tr>\n",
       "<tr><td>YES</td>\n",
       "<td>777.0</td>\n",
       "<td>4956.0</td>\n",
       "<td>0.1355</td>\n",
       "<td> (777.0/5733.0)</td></tr>\n",
       "<tr><td>Total</td>\n",
       "<td>2707.0</td>\n",
       "<td>8287.0</td>\n",
       "<td>0.3737</td>\n",
       "<td> (4108.0/10994.0)</td></tr></table></div>"
      ],
      "text/plain": [
       "       NO    YES    Error    Rate\n",
       "-----  ----  -----  -------  ----------------\n",
       "NO     1930  3331   0.6331   (3331.0/5261.0)\n",
       "YES    777   4956   0.1355   (777.0/5733.0)\n",
       "Total  2707  8287   0.3737   (4108.0/10994.0)"
      ]
     },
     "metadata": {},
     "output_type": "display_data"
    },
    {
     "name": "stdout",
     "output_type": "stream",
     "text": [
      "\n",
      "Maximum Metrics: Maximum metrics at their respective thresholds\n",
      "\n"
     ]
    },
    {
     "data": {
      "text/html": [
       "<div style=\"overflow:auto\"><table style=\"width:50%\"><tr><td><b>metric</b></td>\n",
       "<td><b>threshold</b></td>\n",
       "<td><b>value</b></td>\n",
       "<td><b>idx</b></td></tr>\n",
       "<tr><td>max f1</td>\n",
       "<td>0.3782572</td>\n",
       "<td>0.7069900</td>\n",
       "<td>281.0</td></tr>\n",
       "<tr><td>max f2</td>\n",
       "<td>0.1431398</td>\n",
       "<td>0.8455969</td>\n",
       "<td>388.0</td></tr>\n",
       "<tr><td>max f0point5</td>\n",
       "<td>0.5371382</td>\n",
       "<td>0.6841174</td>\n",
       "<td>193.0</td></tr>\n",
       "<tr><td>max accuracy</td>\n",
       "<td>0.5285964</td>\n",
       "<td>0.6659996</td>\n",
       "<td>198.0</td></tr>\n",
       "<tr><td>max precision</td>\n",
       "<td>0.9641376</td>\n",
       "<td>1.0</td>\n",
       "<td>0.0</td></tr>\n",
       "<tr><td>max recall</td>\n",
       "<td>0.0911536</td>\n",
       "<td>1.0</td>\n",
       "<td>399.0</td></tr>\n",
       "<tr><td>max specificity</td>\n",
       "<td>0.9641376</td>\n",
       "<td>1.0</td>\n",
       "<td>0.0</td></tr>\n",
       "<tr><td>max absolute_MCC</td>\n",
       "<td>0.5285964</td>\n",
       "<td>0.3346275</td>\n",
       "<td>198.0</td></tr>\n",
       "<tr><td>max min_per_class_accuracy</td>\n",
       "<td>0.5134259</td>\n",
       "<td>0.6626117</td>\n",
       "<td>207.0</td></tr></table></div>"
      ],
      "text/plain": [
       "metric                      threshold    value     idx\n",
       "--------------------------  -----------  --------  -----\n",
       "max f1                      0.378257     0.70699   281\n",
       "max f2                      0.14314      0.845597  388\n",
       "max f0point5                0.537138     0.684117  193\n",
       "max accuracy                0.528596     0.666     198\n",
       "max precision               0.964138     1         0\n",
       "max recall                  0.0911536    1         399\n",
       "max specificity             0.964138     1         0\n",
       "max absolute_MCC            0.528596     0.334627  198\n",
       "max min_per_class_accuracy  0.513426     0.662612  207"
      ]
     },
     "metadata": {},
     "output_type": "display_data"
    },
    {
     "name": "stdout",
     "output_type": "stream",
     "text": [
      "\n",
      "Gains/Lift Table: Avg response rate: 52.15 %\n",
      "\n"
     ]
    },
    {
     "data": {
      "text/html": [
       "<div style=\"overflow:auto\"><table style=\"width:50%\"><tr><td><b></b></td>\n",
       "<td><b>group</b></td>\n",
       "<td><b>cumulative_data_fraction</b></td>\n",
       "<td><b>lower_threshold</b></td>\n",
       "<td><b>lift</b></td>\n",
       "<td><b>cumulative_lift</b></td>\n",
       "<td><b>response_rate</b></td>\n",
       "<td><b>cumulative_response_rate</b></td>\n",
       "<td><b>capture_rate</b></td>\n",
       "<td><b>cumulative_capture_rate</b></td>\n",
       "<td><b>gain</b></td>\n",
       "<td><b>cumulative_gain</b></td></tr>\n",
       "<tr><td></td>\n",
       "<td>1</td>\n",
       "<td>0.0100055</td>\n",
       "<td>0.8971412</td>\n",
       "<td>1.8130695</td>\n",
       "<td>1.8130695</td>\n",
       "<td>0.9454545</td>\n",
       "<td>0.9454545</td>\n",
       "<td>0.0181406</td>\n",
       "<td>0.0181406</td>\n",
       "<td>81.3069470</td>\n",
       "<td>81.3069470</td></tr>\n",
       "<tr><td></td>\n",
       "<td>2</td>\n",
       "<td>0.0200109</td>\n",
       "<td>0.8724379</td>\n",
       "<td>1.6910359</td>\n",
       "<td>1.7520527</td>\n",
       "<td>0.8818182</td>\n",
       "<td>0.9136364</td>\n",
       "<td>0.0169196</td>\n",
       "<td>0.0350602</td>\n",
       "<td>69.1035948</td>\n",
       "<td>75.2052709</td></tr>\n",
       "<tr><td></td>\n",
       "<td>3</td>\n",
       "<td>0.0300164</td>\n",
       "<td>0.8526134</td>\n",
       "<td>1.6038691</td>\n",
       "<td>1.7026582</td>\n",
       "<td>0.8363636</td>\n",
       "<td>0.8878788</td>\n",
       "<td>0.0160474</td>\n",
       "<td>0.0511076</td>\n",
       "<td>60.3869147</td>\n",
       "<td>70.2658188</td></tr>\n",
       "<tr><td></td>\n",
       "<td>4</td>\n",
       "<td>0.0400218</td>\n",
       "<td>0.8366343</td>\n",
       "<td>1.6387359</td>\n",
       "<td>1.6866776</td>\n",
       "<td>0.8545455</td>\n",
       "<td>0.8795455</td>\n",
       "<td>0.0163963</td>\n",
       "<td>0.0675039</td>\n",
       "<td>63.8735867</td>\n",
       "<td>68.6677608</td></tr>\n",
       "<tr><td></td>\n",
       "<td>5</td>\n",
       "<td>0.0500273</td>\n",
       "<td>0.8205518</td>\n",
       "<td>1.6213025</td>\n",
       "<td>1.6736026</td>\n",
       "<td>0.8454545</td>\n",
       "<td>0.8727273</td>\n",
       "<td>0.0162219</td>\n",
       "<td>0.0837258</td>\n",
       "<td>62.1302507</td>\n",
       "<td>67.3602588</td></tr>\n",
       "<tr><td></td>\n",
       "<td>6</td>\n",
       "<td>0.1000546</td>\n",
       "<td>0.7614338</td>\n",
       "<td>1.5376224</td>\n",
       "<td>1.6056125</td>\n",
       "<td>0.8018182</td>\n",
       "<td>0.8372727</td>\n",
       "<td>0.0769231</td>\n",
       "<td>0.1606489</td>\n",
       "<td>53.7622378</td>\n",
       "<td>60.5612483</td></tr>\n",
       "<tr><td></td>\n",
       "<td>7</td>\n",
       "<td>0.1500819</td>\n",
       "<td>0.7203978</td>\n",
       "<td>1.4330222</td>\n",
       "<td>1.5480824</td>\n",
       "<td>0.7472727</td>\n",
       "<td>0.8072727</td>\n",
       "<td>0.0716902</td>\n",
       "<td>0.2323391</td>\n",
       "<td>43.3022216</td>\n",
       "<td>54.8082394</td></tr>\n",
       "<tr><td></td>\n",
       "<td>8</td>\n",
       "<td>0.2000182</td>\n",
       "<td>0.6899574</td>\n",
       "<td>1.3203627</td>\n",
       "<td>1.4912301</td>\n",
       "<td>0.6885246</td>\n",
       "<td>0.7776262</td>\n",
       "<td>0.0659341</td>\n",
       "<td>0.2982732</td>\n",
       "<td>32.0362697</td>\n",
       "<td>49.1230137</td></tr>\n",
       "<tr><td></td>\n",
       "<td>9</td>\n",
       "<td>0.3001637</td>\n",
       "<td>0.6295033</td>\n",
       "<td>1.2923804</td>\n",
       "<td>1.4248866</td>\n",
       "<td>0.6739328</td>\n",
       "<td>0.7430303</td>\n",
       "<td>0.1294261</td>\n",
       "<td>0.4276993</td>\n",
       "<td>29.2380442</td>\n",
       "<td>42.4886648</td></tr>\n",
       "<tr><td></td>\n",
       "<td>10</td>\n",
       "<td>0.4000364</td>\n",
       "<td>0.5690637</td>\n",
       "<td>1.2522487</td>\n",
       "<td>1.3817861</td>\n",
       "<td>0.6530055</td>\n",
       "<td>0.7205548</td>\n",
       "<td>0.1250654</td>\n",
       "<td>0.5527647</td>\n",
       "<td>25.2248749</td>\n",
       "<td>38.1786054</td></tr>\n",
       "<tr><td></td>\n",
       "<td>11</td>\n",
       "<td>0.5</td>\n",
       "<td>0.5157088</td>\n",
       "<td>1.0399737</td>\n",
       "<td>1.3134485</td>\n",
       "<td>0.5423112</td>\n",
       "<td>0.6849190</td>\n",
       "<td>0.1039595</td>\n",
       "<td>0.6567242</td>\n",
       "<td>3.9973704</td>\n",
       "<td>31.3448456</td></tr>\n",
       "<tr><td></td>\n",
       "<td>12</td>\n",
       "<td>0.5999636</td>\n",
       "<td>0.4602573</td>\n",
       "<td>0.8951452</td>\n",
       "<td>1.2437524</td>\n",
       "<td>0.4667880</td>\n",
       "<td>0.6485749</td>\n",
       "<td>0.0894819</td>\n",
       "<td>0.7462062</td>\n",
       "<td>-10.4854849</td>\n",
       "<td>24.3752378</td></tr>\n",
       "<tr><td></td>\n",
       "<td>13</td>\n",
       "<td>0.7000182</td>\n",
       "<td>0.4091353</td>\n",
       "<td>0.7897312</td>\n",
       "<td>1.1788585</td>\n",
       "<td>0.4118182</td>\n",
       "<td>0.6147349</td>\n",
       "<td>0.0790162</td>\n",
       "<td>0.8252224</td>\n",
       "<td>-21.0268779</td>\n",
       "<td>17.8858502</td></tr>\n",
       "<tr><td></td>\n",
       "<td>14</td>\n",
       "<td>0.7999818</td>\n",
       "<td>0.3502319</td>\n",
       "<td>0.6560908</td>\n",
       "<td>1.1135348</td>\n",
       "<td>0.3421292</td>\n",
       "<td>0.5806708</td>\n",
       "<td>0.0655852</td>\n",
       "<td>0.8908076</td>\n",
       "<td>-34.3909207</td>\n",
       "<td>11.3534828</td></tr>\n",
       "<tr><td></td>\n",
       "<td>15</td>\n",
       "<td>0.9000364</td>\n",
       "<td>0.2814824</td>\n",
       "<td>0.6258576</td>\n",
       "<td>1.0593211</td>\n",
       "<td>0.3263636</td>\n",
       "<td>0.5524002</td>\n",
       "<td>0.0626199</td>\n",
       "<td>0.9534275</td>\n",
       "<td>-37.4142366</td>\n",
       "<td>5.9321092</td></tr>\n",
       "<tr><td></td>\n",
       "<td>16</td>\n",
       "<td>1.0</td>\n",
       "<td>0.0911536</td>\n",
       "<td>0.4658943</td>\n",
       "<td>1.0</td>\n",
       "<td>0.2429481</td>\n",
       "<td>0.5214663</td>\n",
       "<td>0.0465725</td>\n",
       "<td>1.0</td>\n",
       "<td>-53.4105740</td>\n",
       "<td>0.0</td></tr></table></div>"
      ],
      "text/plain": [
       "    group    cumulative_data_fraction    lower_threshold    lift      cumulative_lift    response_rate    cumulative_response_rate    capture_rate    cumulative_capture_rate    gain      cumulative_gain\n",
       "--  -------  --------------------------  -----------------  --------  -----------------  ---------------  --------------------------  --------------  -------------------------  --------  -----------------\n",
       "    1        0.0100055                   0.897141           1.81307   1.81307            0.945455         0.945455                    0.0181406       0.0181406                  81.3069   81.3069\n",
       "    2        0.0200109                   0.872438           1.69104   1.75205            0.881818         0.913636                    0.0169196       0.0350602                  69.1036   75.2053\n",
       "    3        0.0300164                   0.852613           1.60387   1.70266            0.836364         0.887879                    0.0160474       0.0511076                  60.3869   70.2658\n",
       "    4        0.0400218                   0.836634           1.63874   1.68668            0.854545         0.879545                    0.0163963       0.0675039                  63.8736   68.6678\n",
       "    5        0.0500273                   0.820552           1.6213    1.6736             0.845455         0.872727                    0.0162219       0.0837258                  62.1303   67.3603\n",
       "    6        0.100055                    0.761434           1.53762   1.60561            0.801818         0.837273                    0.0769231       0.160649                   53.7622   60.5612\n",
       "    7        0.150082                    0.720398           1.43302   1.54808            0.747273         0.807273                    0.0716902       0.232339                   43.3022   54.8082\n",
       "    8        0.200018                    0.689957           1.32036   1.49123            0.688525         0.777626                    0.0659341       0.298273                   32.0363   49.123\n",
       "    9        0.300164                    0.629503           1.29238   1.42489            0.673933         0.74303                     0.129426        0.427699                   29.238    42.4887\n",
       "    10       0.400036                    0.569064           1.25225   1.38179            0.653005         0.720555                    0.125065        0.552765                   25.2249   38.1786\n",
       "    11       0.5                         0.515709           1.03997   1.31345            0.542311         0.684919                    0.10396         0.656724                   3.99737   31.3448\n",
       "    12       0.599964                    0.460257           0.895145  1.24375            0.466788         0.648575                    0.0894819       0.746206                   -10.4855  24.3752\n",
       "    13       0.700018                    0.409135           0.789731  1.17886            0.411818         0.614735                    0.0790162       0.825222                   -21.0269  17.8859\n",
       "    14       0.799982                    0.350232           0.656091  1.11353            0.342129         0.580671                    0.0655852       0.890808                   -34.3909  11.3535\n",
       "    15       0.900036                    0.281482           0.625858  1.05932            0.326364         0.5524                      0.0626199       0.953428                   -37.4142  5.93211\n",
       "    16       1                           0.0911536          0.465894  1                  0.242948         0.521466                    0.0465725       1                          -53.4106  0"
      ]
     },
     "metadata": {},
     "output_type": "display_data"
    },
    {
     "name": "stdout",
     "output_type": "stream",
     "text": [
      "\n"
     ]
    },
    {
     "data": {
      "text/plain": []
     },
     "execution_count": 60,
     "metadata": {},
     "output_type": "execute_result"
    }
   ],
   "source": [
    "data_dl.model_performance(test)"
   ]
  },
  {
   "cell_type": "code",
   "execution_count": null,
   "metadata": {
    "collapsed": true
   },
   "outputs": [],
   "source": []
  }
 ],
 "metadata": {
  "kernelspec": {
   "display_name": "Python 2",
   "language": "python",
   "name": "python2"
  },
  "language_info": {
   "codemirror_mode": {
    "name": "ipython",
    "version": 2
   },
   "file_extension": ".py",
   "mimetype": "text/x-python",
   "name": "python",
   "nbconvert_exporter": "python",
   "pygments_lexer": "ipython2",
   "version": "2.7.11"
  }
 },
 "nbformat": 4,
 "nbformat_minor": 0
}
